{
 "cells": [
  {
   "cell_type": "markdown",
   "id": "32793ca7",
   "metadata": {},
   "source": [
    "# minimal example of ontram implementation\n",
    "- anlogous to https://github.com/liherz/ontram_pytorch.git"
   ]
  },
  {
   "cell_type": "code",
   "execution_count": 1,
   "id": "ee5f4e66",
   "metadata": {},
   "outputs": [
    {
     "name": "stdout",
     "output_type": "stream",
     "text": [
      "Train with GPU support.\n"
     ]
    }
   ],
   "source": [
    "# Load dependencies\n",
    "import numpy as np\n",
    "from matplotlib import pyplot as plt\n",
    "import pandas as pd\n",
    "import os\n",
    "from sklearn.datasets import load_wine\n",
    "from sklearn.model_selection import train_test_split\n",
    "\n",
    "\n",
    "\n",
    "from utils.graph import *\n",
    "from utils.loss_ordinal import *\n",
    "from utils.tram_model_helpers import *\n",
    "from utils.tram_models import *\n",
    "from utils.tram_data import *\n",
    "\n",
    "\n",
    "import torch\n",
    "\n",
    "if torch.cuda.is_available():\n",
    "    device = torch.device('cuda')\n",
    "    print(\"Train with GPU support.\")\n",
    "else:\n",
    "    device = torch.device('cpu')\n",
    "    print(\"No GPU found, train with CPU support.\")"
   ]
  },
  {
   "cell_type": "markdown",
   "id": "ea6ada57",
   "metadata": {},
   "source": [
    "adjustet funcitnos for ordinal outcomes "
   ]
  },
  {
   "cell_type": "markdown",
   "id": "8678f4f3",
   "metadata": {},
   "source": [
    "dev ordinal"
   ]
  },
  {
   "cell_type": "code",
   "execution_count": 2,
   "id": "7bd61311",
   "metadata": {},
   "outputs": [],
   "source": [
    "experiment_name = \"ordinal_wine_example\"   ## <--- set experiment name\n",
    "seed=42\n",
    "np.random.seed(seed)\n",
    "\n",
    "LOG_DIR=\"/home/bule/TramDag/dev_experiment_logs\"\n",
    "EXPERIMENT_DIR = os.path.join(LOG_DIR, experiment_name)\n",
    "DATA_PATH = EXPERIMENT_DIR # <----------- change to different source if needed\n",
    "CONF_DICT_PATH = os.path.join(EXPERIMENT_DIR, f\"configuration.json\")"
   ]
  },
  {
   "cell_type": "code",
   "execution_count": 3,
   "id": "64449eda",
   "metadata": {},
   "outputs": [
    {
     "data": {
      "text/plain": [
       "{'data': array([[1.423e+01, 1.710e+00, 2.430e+00, ..., 1.040e+00, 3.920e+00,\n",
       "         1.065e+03],\n",
       "        [1.320e+01, 1.780e+00, 2.140e+00, ..., 1.050e+00, 3.400e+00,\n",
       "         1.050e+03],\n",
       "        [1.316e+01, 2.360e+00, 2.670e+00, ..., 1.030e+00, 3.170e+00,\n",
       "         1.185e+03],\n",
       "        ...,\n",
       "        [1.327e+01, 4.280e+00, 2.260e+00, ..., 5.900e-01, 1.560e+00,\n",
       "         8.350e+02],\n",
       "        [1.317e+01, 2.590e+00, 2.370e+00, ..., 6.000e-01, 1.620e+00,\n",
       "         8.400e+02],\n",
       "        [1.413e+01, 4.100e+00, 2.740e+00, ..., 6.100e-01, 1.600e+00,\n",
       "         5.600e+02]]),\n",
       " 'target': array([0, 0, 0, 0, 0, 0, 0, 0, 0, 0, 0, 0, 0, 0, 0, 0, 0, 0, 0, 0, 0, 0,\n",
       "        0, 0, 0, 0, 0, 0, 0, 0, 0, 0, 0, 0, 0, 0, 0, 0, 0, 0, 0, 0, 0, 0,\n",
       "        0, 0, 0, 0, 0, 0, 0, 0, 0, 0, 0, 0, 0, 0, 0, 1, 1, 1, 1, 1, 1, 1,\n",
       "        1, 1, 1, 1, 1, 1, 1, 1, 1, 1, 1, 1, 1, 1, 1, 1, 1, 1, 1, 1, 1, 1,\n",
       "        1, 1, 1, 1, 1, 1, 1, 1, 1, 1, 1, 1, 1, 1, 1, 1, 1, 1, 1, 1, 1, 1,\n",
       "        1, 1, 1, 1, 1, 1, 1, 1, 1, 1, 1, 1, 1, 1, 1, 1, 1, 1, 1, 1, 2, 2,\n",
       "        2, 2, 2, 2, 2, 2, 2, 2, 2, 2, 2, 2, 2, 2, 2, 2, 2, 2, 2, 2, 2, 2,\n",
       "        2, 2, 2, 2, 2, 2, 2, 2, 2, 2, 2, 2, 2, 2, 2, 2, 2, 2, 2, 2, 2, 2,\n",
       "        2, 2]),\n",
       " 'frame': None,\n",
       " 'target_names': array(['class_0', 'class_1', 'class_2'], dtype='<U7'),\n",
       " 'DESCR': '.. _wine_dataset:\\n\\nWine recognition dataset\\n------------------------\\n\\n**Data Set Characteristics:**\\n\\n:Number of Instances: 178\\n:Number of Attributes: 13 numeric, predictive attributes and the class\\n:Attribute Information:\\n    - Alcohol\\n    - Malic acid\\n    - Ash\\n    - Alcalinity of ash\\n    - Magnesium\\n    - Total phenols\\n    - Flavanoids\\n    - Nonflavanoid phenols\\n    - Proanthocyanins\\n    - Color intensity\\n    - Hue\\n    - OD280/OD315 of diluted wines\\n    - Proline\\n    - class:\\n        - class_0\\n        - class_1\\n        - class_2\\n\\n:Summary Statistics:\\n\\n============================= ==== ===== ======= =====\\n                                Min   Max   Mean     SD\\n============================= ==== ===== ======= =====\\nAlcohol:                      11.0  14.8    13.0   0.8\\nMalic Acid:                   0.74  5.80    2.34  1.12\\nAsh:                          1.36  3.23    2.36  0.27\\nAlcalinity of Ash:            10.6  30.0    19.5   3.3\\nMagnesium:                    70.0 162.0    99.7  14.3\\nTotal Phenols:                0.98  3.88    2.29  0.63\\nFlavanoids:                   0.34  5.08    2.03  1.00\\nNonflavanoid Phenols:         0.13  0.66    0.36  0.12\\nProanthocyanins:              0.41  3.58    1.59  0.57\\nColour Intensity:              1.3  13.0     5.1   2.3\\nHue:                          0.48  1.71    0.96  0.23\\nOD280/OD315 of diluted wines: 1.27  4.00    2.61  0.71\\nProline:                       278  1680     746   315\\n============================= ==== ===== ======= =====\\n\\n:Missing Attribute Values: None\\n:Class Distribution: class_0 (59), class_1 (71), class_2 (48)\\n:Creator: R.A. Fisher\\n:Donor: Michael Marshall (MARSHALL%PLU@io.arc.nasa.gov)\\n:Date: July, 1988\\n\\nThis is a copy of UCI ML Wine recognition datasets.\\nhttps://archive.ics.uci.edu/ml/machine-learning-databases/wine/wine.data\\n\\nThe data is the results of a chemical analysis of wines grown in the same\\nregion in Italy by three different cultivators. There are thirteen different\\nmeasurements taken for different constituents found in the three types of\\nwine.\\n\\nOriginal Owners:\\n\\nForina, M. et al, PARVUS -\\nAn Extendible Package for Data Exploration, Classification and Correlation.\\nInstitute of Pharmaceutical and Food Analysis and Technologies,\\nVia Brigata Salerno, 16147 Genoa, Italy.\\n\\nCitation:\\n\\nLichman, M. (2013). UCI Machine Learning Repository\\n[https://archive.ics.uci.edu/ml]. Irvine, CA: University of California,\\nSchool of Information and Computer Science.\\n\\n.. dropdown:: References\\n\\n    (1) S. Aeberhard, D. Coomans and O. de Vel,\\n    Comparison of Classifiers in High Dimensional Settings,\\n    Tech. Rep. no. 92-02, (1992), Dept. of Computer Science and Dept. of\\n    Mathematics and Statistics, James Cook University of North Queensland.\\n    (Also submitted to Technometrics).\\n\\n    The data was used with many others for comparing various\\n    classifiers. The classes are separable, though only RDA\\n    has achieved 100% correct classification.\\n    (RDA : 100%, QDA 99.4%, LDA 98.9%, 1NN 96.1% (z-transformed data))\\n    (All results using the leave-one-out technique)\\n\\n    (2) S. Aeberhard, D. Coomans and O. de Vel,\\n    \"THE CLASSIFICATION PERFORMANCE OF RDA\"\\n    Tech. Rep. no. 92-01, (1992), Dept. of Computer Science and Dept. of\\n    Mathematics and Statistics, James Cook University of North Queensland.\\n    (Also submitted to Journal of Chemometrics).\\n',\n",
       " 'feature_names': ['alcohol',\n",
       "  'malic_acid',\n",
       "  'ash',\n",
       "  'alcalinity_of_ash',\n",
       "  'magnesium',\n",
       "  'total_phenols',\n",
       "  'flavanoids',\n",
       "  'nonflavanoid_phenols',\n",
       "  'proanthocyanins',\n",
       "  'color_intensity',\n",
       "  'hue',\n",
       "  'od280/od315_of_diluted_wines',\n",
       "  'proline']}"
      ]
     },
     "execution_count": 3,
     "metadata": {},
     "output_type": "execute_result"
    }
   ],
   "source": [
    "# Load the dataset\n",
    "wine = load_wine()\n",
    "wine"
   ]
  },
  {
   "cell_type": "code",
   "execution_count": 4,
   "id": "d9a21723",
   "metadata": {},
   "outputs": [],
   "source": [
    "df=pd.DataFrame(wine['data'], columns=wine['feature_names'])\n",
    "df['target']=wine['target']"
   ]
  },
  {
   "cell_type": "code",
   "execution_count": 5,
   "id": "1851b142",
   "metadata": {},
   "outputs": [],
   "source": [
    "train_df, temp_df = train_test_split(df, test_size=0.2, random_state=42)\n",
    "val_df, test_df = train_test_split(temp_df, test_size=0.5, random_state=42)\n",
    "\n",
    "quantiles = train_df.quantile([0.05, 0.95])\n",
    "min_vals = quantiles.loc[0.05]\n",
    "max_vals = quantiles.loc[0.95]"
   ]
  },
  {
   "cell_type": "code",
   "execution_count": 6,
   "id": "a156cd08",
   "metadata": {},
   "outputs": [
    {
     "name": "stdout",
     "output_type": "stream",
     "text": [
      "<class 'pandas.core.frame.DataFrame'>\n",
      "Index: 142 entries, 158 to 102\n",
      "Data columns (total 14 columns):\n",
      " #   Column                        Non-Null Count  Dtype  \n",
      "---  ------                        --------------  -----  \n",
      " 0   alcohol                       142 non-null    float64\n",
      " 1   malic_acid                    142 non-null    float64\n",
      " 2   ash                           142 non-null    float64\n",
      " 3   alcalinity_of_ash             142 non-null    float64\n",
      " 4   magnesium                     142 non-null    float64\n",
      " 5   total_phenols                 142 non-null    float64\n",
      " 6   flavanoids                    142 non-null    float64\n",
      " 7   nonflavanoid_phenols          142 non-null    float64\n",
      " 8   proanthocyanins               142 non-null    float64\n",
      " 9   color_intensity               142 non-null    float64\n",
      " 10  hue                           142 non-null    float64\n",
      " 11  od280/od315_of_diluted_wines  142 non-null    float64\n",
      " 12  proline                       142 non-null    float64\n",
      " 13  target                        142 non-null    int64  \n",
      "dtypes: float64(13), int64(1)\n",
      "memory usage: 16.6 KB\n"
     ]
    }
   ],
   "source": [
    "train_df.info()"
   ]
  },
  {
   "cell_type": "code",
   "execution_count": 11,
   "id": "f49ea145",
   "metadata": {},
   "outputs": [
    {
     "data": {
      "application/vnd.microsoft.datawrangler.viewer.v0+json": {
       "columns": [
        {
         "name": "index",
         "rawType": "int64",
         "type": "integer"
        },
        {
         "name": "target",
         "rawType": "int64",
         "type": "integer"
        }
       ],
       "ref": "da2be9bf-2c19-4a73-b6a4-697ab06c280c",
       "rows": [
        [
         "158",
         "2"
        ],
        [
         "137",
         "2"
        ],
        [
         "98",
         "1"
        ],
        [
         "159",
         "2"
        ],
        [
         "38",
         "0"
        ],
        [
         "108",
         "1"
        ],
        [
         "85",
         "1"
        ],
        [
         "68",
         "1"
        ],
        [
         "143",
         "2"
        ],
        [
         "2",
         "0"
        ],
        [
         "100",
         "1"
        ],
        [
         "122",
         "1"
        ],
        [
         "154",
         "2"
        ],
        [
         "51",
         "0"
        ],
        [
         "76",
         "1"
        ],
        [
         "56",
         "0"
        ],
        [
         "26",
         "0"
        ],
        [
         "153",
         "2"
        ],
        [
         "138",
         "2"
        ],
        [
         "104",
         "1"
        ],
        [
         "78",
         "1"
        ],
        [
         "36",
         "0"
        ],
        [
         "93",
         "1"
        ],
        [
         "22",
         "0"
        ],
        [
         "146",
         "2"
        ],
        [
         "97",
         "1"
        ],
        [
         "69",
         "1"
        ],
        [
         "167",
         "2"
        ],
        [
         "11",
         "0"
        ],
        [
         "6",
         "0"
        ],
        [
         "27",
         "0"
        ],
        [
         "144",
         "2"
        ],
        [
         "4",
         "0"
        ],
        [
         "32",
         "0"
        ],
        [
         "95",
         "1"
        ],
        [
         "170",
         "2"
        ],
        [
         "75",
         "1"
        ],
        [
         "10",
         "0"
        ],
        [
         "147",
         "2"
        ],
        [
         "123",
         "1"
        ],
        [
         "0",
         "0"
        ],
        [
         "142",
         "2"
        ],
        [
         "126",
         "1"
        ],
        [
         "64",
         "1"
        ],
        [
         "44",
         "0"
        ],
        [
         "96",
         "1"
        ],
        [
         "28",
         "0"
        ],
        [
         "40",
         "0"
        ],
        [
         "127",
         "1"
        ],
        [
         "25",
         "0"
        ]
       ],
       "shape": {
        "columns": 1,
        "rows": 142
       }
      },
      "text/plain": [
       "158    2\n",
       "137    2\n",
       "98     1\n",
       "159    2\n",
       "38     0\n",
       "      ..\n",
       "71     1\n",
       "106    1\n",
       "14     0\n",
       "92     1\n",
       "102    1\n",
       "Name: target, Length: 142, dtype: int64"
      ]
     },
     "execution_count": 11,
     "metadata": {},
     "output_type": "execute_result"
    }
   ],
   "source": [
    "train_df['target']"
   ]
  },
  {
   "cell_type": "markdown",
   "id": "d0327150",
   "metadata": {},
   "source": [
    "data types"
   ]
  },
  {
   "cell_type": "code",
   "execution_count": 7,
   "id": "90e93c07",
   "metadata": {},
   "outputs": [
    {
     "data": {
      "text/plain": [
       "{'alcohol': 'cont',\n",
       " 'malic_acid': 'cont',\n",
       " 'ash': 'cont',\n",
       " 'alcalinity_of_ash': 'cont',\n",
       " 'magnesium': 'cont',\n",
       " 'total_phenols': 'cont',\n",
       " 'flavanoids': 'cont',\n",
       " 'nonflavanoid_phenols': 'cont',\n",
       " 'proanthocyanins': 'cont',\n",
       " 'color_intensity': 'cont',\n",
       " 'hue': 'cont',\n",
       " 'od280/od315_of_diluted_wines': 'cont',\n",
       " 'proline': 'cont',\n",
       " 'target': 'ord'}"
      ]
     },
     "execution_count": 7,
     "metadata": {},
     "output_type": "execute_result"
    }
   ],
   "source": [
    "data_type={key:value for key, value in zip(train_df.columns, ['cont']*13+['ord'])}\n",
    "data_type"
   ]
  },
  {
   "cell_type": "markdown",
   "id": "b31eb799",
   "metadata": {},
   "source": [
    "configartion dicitonary"
   ]
  },
  {
   "cell_type": "code",
   "execution_count": 8,
   "id": "18adb654",
   "metadata": {},
   "outputs": [
    {
     "data": {
      "text/plain": [
       "{'date_of_creation': '2025-07-17 14:54:27',\n",
       " 'experiment_name': 'ordinal_wine_example',\n",
       " 'PATHS': {'DATA_PATH': '/home/bule/TramDag/dev_experiment_logs/ordinal_wine_example',\n",
       "  'LOG_DIR': '/home/bule/TramDag/dev_experiment_logs',\n",
       "  'EXPERIMENT_DIR': '/home/bule/TramDag/dev_experiment_logs/ordinal_wine_example'},\n",
       " 'data_type': None,\n",
       " 'adj_matrix': None,\n",
       " 'model_names': None,\n",
       " 'seed': None,\n",
       " 'nodes': None}"
      ]
     },
     "execution_count": 8,
     "metadata": {},
     "output_type": "execute_result"
    }
   ],
   "source": [
    "configuration_dict=new_conf_dict(experiment_name,EXPERIMENT_DIR,DATA_PATH,LOG_DIR)\n",
    "configuration_dict"
   ]
  },
  {
   "cell_type": "markdown",
   "id": "14a49ae0",
   "metadata": {},
   "source": [
    "modeloling it as a graph with one sink node "
   ]
  },
  {
   "cell_type": "code",
   "execution_count": 9,
   "id": "a6a166ec",
   "metadata": {},
   "outputs": [
    {
     "data": {
      "text/plain": [
       "array([['0', '0', '0', '0', '0', '0', '0', '0', '0', '0', '0', '0', '0',\n",
       "        'LinearShift'],\n",
       "       ['0', '0', '0', '0', '0', '0', '0', '0', '0', '0', '0', '0', '0',\n",
       "        'LinearShift'],\n",
       "       ['0', '0', '0', '0', '0', '0', '0', '0', '0', '0', '0', '0', '0',\n",
       "        'LinearShift'],\n",
       "       ['0', '0', '0', '0', '0', '0', '0', '0', '0', '0', '0', '0', '0',\n",
       "        'LinearShift'],\n",
       "       ['0', '0', '0', '0', '0', '0', '0', '0', '0', '0', '0', '0', '0',\n",
       "        'LinearShift'],\n",
       "       ['0', '0', '0', '0', '0', '0', '0', '0', '0', '0', '0', '0', '0',\n",
       "        'LinearShift'],\n",
       "       ['0', '0', '0', '0', '0', '0', '0', '0', '0', '0', '0', '0', '0',\n",
       "        'LinearShift'],\n",
       "       ['0', '0', '0', '0', '0', '0', '0', '0', '0', '0', '0', '0', '0',\n",
       "        'LinearShift'],\n",
       "       ['0', '0', '0', '0', '0', '0', '0', '0', '0', '0', '0', '0', '0',\n",
       "        'LinearShift'],\n",
       "       ['0', '0', '0', '0', '0', '0', '0', '0', '0', '0', '0', '0', '0',\n",
       "        'LinearShift'],\n",
       "       ['0', '0', '0', '0', '0', '0', '0', '0', '0', '0', '0', '0', '0',\n",
       "        'LinearShift'],\n",
       "       ['0', '0', '0', '0', '0', '0', '0', '0', '0', '0', '0', '0', '0',\n",
       "        'LinearShift'],\n",
       "       ['0', '0', '0', '0', '0', '0', '0', '0', '0', '0', '0', '0', '0',\n",
       "        'LinearShift'],\n",
       "       ['0', '0', '0', '0', '0', '0', '0', '0', '0', '0', '0', '0', '0',\n",
       "        '0']], dtype=object)"
      ]
     },
     "execution_count": 9,
     "metadata": {},
     "output_type": "execute_result"
    }
   ],
   "source": [
    "data_type={key:value for key, value in zip(train_df.columns, ['cont']*13+['ord'])}\n",
    "\n",
    "levels_dict={'target':len(np.unique(df['target']))}  \n",
    "\n",
    "columns = [\n",
    "    'alcohol', 'malic_acid', 'ash', 'alcalinity_of_ash', 'magnesium',\n",
    "    'total_phenols', 'flavanoids', 'nonflavanoid_phenols', 'proanthocyanins',\n",
    "    'color_intensity', 'hue', 'od280/od315_of_diluted_wines', 'proline', 'target'\n",
    "]\n",
    "\n",
    "adj_matrix = np.full((len(columns), len(columns)), \"0\", dtype=object)\n",
    "\n",
    "# Set last column (edges *to* 'target') as \"ls\", excluding self-loop\n",
    "for i in range(len(columns) - 1):\n",
    "    adj_matrix[i, -1] = \"ls\"\n",
    "    \n",
    "nn_names_matrix= create_nn_model_names(adj_matrix,data_type)\n",
    "nn_names_matrix"
   ]
  },
  {
   "cell_type": "code",
   "execution_count": null,
   "id": "c6ece2f7",
   "metadata": {},
   "outputs": [
    {
     "data": {
      "text/plain": [
       "{'alcohol': {'Modelnr': 0,\n",
       "  'data_type': 'cont',\n",
       "  'node_type': 'source',\n",
       "  'parents': [],\n",
       "  'parents_datatype': {},\n",
       "  'transformation_terms_in_h()': {},\n",
       "  'min': 11.665000000000001,\n",
       "  'max': 14.2295,\n",
       "  'transformation_term_nn_models_in_h()': {}},\n",
       " 'malic_acid': {'Modelnr': 1,\n",
       "  'data_type': 'cont',\n",
       "  'node_type': 'source',\n",
       "  'parents': [],\n",
       "  'parents_datatype': {},\n",
       "  'transformation_terms_in_h()': {},\n",
       "  'min': 1.0710000000000002,\n",
       "  'max': 4.600999999999998,\n",
       "  'transformation_term_nn_models_in_h()': {}},\n",
       " 'ash': {'Modelnr': 2,\n",
       "  'data_type': 'cont',\n",
       "  'node_type': 'source',\n",
       "  'parents': [],\n",
       "  'parents_datatype': {},\n",
       "  'transformation_terms_in_h()': {},\n",
       "  'min': 1.92,\n",
       "  'max': 2.7495,\n",
       "  'transformation_term_nn_models_in_h()': {}},\n",
       " 'alcalinity_of_ash': {'Modelnr': 3,\n",
       "  'data_type': 'cont',\n",
       "  'node_type': 'source',\n",
       "  'parents': [],\n",
       "  'parents_datatype': {},\n",
       "  'transformation_terms_in_h()': {},\n",
       "  'min': 14.030000000000001,\n",
       "  'max': 25.0,\n",
       "  'transformation_term_nn_models_in_h()': {}},\n",
       " 'magnesium': {'Modelnr': 4,\n",
       "  'data_type': 'cont',\n",
       "  'node_type': 'source',\n",
       "  'parents': [],\n",
       "  'parents_datatype': {},\n",
       "  'transformation_terms_in_h()': {},\n",
       "  'min': 84.05,\n",
       "  'max': 126.94999999999999,\n",
       "  'transformation_term_nn_models_in_h()': {}},\n",
       " 'total_phenols': {'Modelnr': 5,\n",
       "  'data_type': 'cont',\n",
       "  'node_type': 'source',\n",
       "  'parents': [],\n",
       "  'parents_datatype': {},\n",
       "  'transformation_terms_in_h()': {},\n",
       "  'min': 1.38,\n",
       "  'max': 3.2984999999999993,\n",
       "  'transformation_term_nn_models_in_h()': {}},\n",
       " 'flavanoids': {'Modelnr': 6,\n",
       "  'data_type': 'cont',\n",
       "  'node_type': 'source',\n",
       "  'parents': [],\n",
       "  'parents_datatype': {},\n",
       "  'transformation_terms_in_h()': {},\n",
       "  'min': 0.5705,\n",
       "  'max': 3.485499999999999,\n",
       "  'transformation_term_nn_models_in_h()': {}},\n",
       " 'nonflavanoid_phenols': {'Modelnr': 7,\n",
       "  'data_type': 'cont',\n",
       "  'node_type': 'source',\n",
       "  'parents': [],\n",
       "  'parents_datatype': {},\n",
       "  'transformation_terms_in_h()': {},\n",
       "  'min': 0.1905,\n",
       "  'max': 0.6,\n",
       "  'transformation_term_nn_models_in_h()': {}},\n",
       " 'proanthocyanins': {'Modelnr': 8,\n",
       "  'data_type': 'cont',\n",
       "  'node_type': 'source',\n",
       "  'parents': [],\n",
       "  'parents_datatype': {},\n",
       "  'transformation_terms_in_h()': {},\n",
       "  'min': 0.8,\n",
       "  'max': 2.8074999999999997,\n",
       "  'transformation_term_nn_models_in_h()': {}},\n",
       " 'color_intensity': {'Modelnr': 9,\n",
       "  'data_type': 'cont',\n",
       "  'node_type': 'source',\n",
       "  'parents': [],\n",
       "  'parents_datatype': {},\n",
       "  'transformation_terms_in_h()': {},\n",
       "  'min': 2.3075,\n",
       "  'max': 9.684999999999995,\n",
       "  'transformation_term_nn_models_in_h()': {}},\n",
       " 'hue': {'Modelnr': 10,\n",
       "  'data_type': 'cont',\n",
       "  'node_type': 'source',\n",
       "  'parents': [],\n",
       "  'parents_datatype': {},\n",
       "  'transformation_terms_in_h()': {},\n",
       "  'min': 0.57,\n",
       "  'max': 1.3084999999999998,\n",
       "  'transformation_term_nn_models_in_h()': {}},\n",
       " 'od280/od315_of_diluted_wines': {'Modelnr': 11,\n",
       "  'data_type': 'cont',\n",
       "  'node_type': 'source',\n",
       "  'parents': [],\n",
       "  'parents_datatype': {},\n",
       "  'transformation_terms_in_h()': {},\n",
       "  'min': 1.4224999999999999,\n",
       "  'max': 3.5795,\n",
       "  'transformation_term_nn_models_in_h()': {}},\n",
       " 'proline': {'Modelnr': 12,\n",
       "  'data_type': 'cont',\n",
       "  'node_type': 'source',\n",
       "  'parents': [],\n",
       "  'parents_datatype': {},\n",
       "  'transformation_terms_in_h()': {},\n",
       "  'min': 365.65000000000003,\n",
       "  'max': 1285.0,\n",
       "  'transformation_term_nn_models_in_h()': {}},\n",
       " 'target': {'Modelnr': 13,\n",
       "  'data_type': 'ord',\n",
       "  'levels': 3,\n",
       "  'node_type': 'sink',\n",
       "  'parents': ['alcohol',\n",
       "   'malic_acid',\n",
       "   'ash',\n",
       "   'alcalinity_of_ash',\n",
       "   'magnesium',\n",
       "   'total_phenols',\n",
       "   'flavanoids',\n",
       "   'nonflavanoid_phenols',\n",
       "   'proanthocyanins',\n",
       "   'color_intensity',\n",
       "   'hue',\n",
       "   'od280/od315_of_diluted_wines',\n",
       "   'proline'],\n",
       "  'parents_datatype': {'alcohol': 'cont',\n",
       "   'malic_acid': 'cont',\n",
       "   'ash': 'cont',\n",
       "   'alcalinity_of_ash': 'cont',\n",
       "   'magnesium': 'cont',\n",
       "   'total_phenols': 'cont',\n",
       "   'flavanoids': 'cont',\n",
       "   'nonflavanoid_phenols': 'cont',\n",
       "   'proanthocyanins': 'cont',\n",
       "   'color_intensity': 'cont',\n",
       "   'hue': 'cont',\n",
       "   'od280/od315_of_diluted_wines': 'cont',\n",
       "   'proline': 'cont'},\n",
       "  'transformation_terms_in_h()': {'alcohol': 'ls',\n",
       "   'malic_acid': 'ls',\n",
       "   'ash': 'ls',\n",
       "   'alcalinity_of_ash': 'ls',\n",
       "   'magnesium': 'ls',\n",
       "   'total_phenols': 'ls',\n",
       "   'flavanoids': 'ls',\n",
       "   'nonflavanoid_phenols': 'ls',\n",
       "   'proanthocyanins': 'ls',\n",
       "   'color_intensity': 'ls',\n",
       "   'hue': 'ls',\n",
       "   'od280/od315_of_diluted_wines': 'ls',\n",
       "   'proline': 'ls'},\n",
       "  'min': 0.0,\n",
       "  'max': 2.0,\n",
       "  'transformation_term_nn_models_in_h()': {'alcohol': 'LinearShift',\n",
       "   'malic_acid': 'LinearShift',\n",
       "   'ash': 'LinearShift',\n",
       "   'alcalinity_of_ash': 'LinearShift',\n",
       "   'magnesium': 'LinearShift',\n",
       "   'total_phenols': 'LinearShift',\n",
       "   'flavanoids': 'LinearShift',\n",
       "   'nonflavanoid_phenols': 'LinearShift',\n",
       "   'proanthocyanins': 'LinearShift',\n",
       "   'color_intensity': 'LinearShift',\n",
       "   'hue': 'LinearShift',\n",
       "   'od280/od315_of_diluted_wines': 'LinearShift',\n",
       "   'proline': 'LinearShift'}}}"
      ]
     },
     "execution_count": 10,
     "metadata": {},
     "output_type": "execute_result"
    }
   ],
   "source": [
    "target_nodes=create_node_dict(adj_matrix, nn_names_matrix, data_type, min_vals, max_vals,levels_dict)\n",
    "target_nodes"
   ]
  },
  {
   "cell_type": "code",
   "execution_count": null,
   "id": "e6cee33a",
   "metadata": {},
   "outputs": [
    {
     "name": "stdout",
     "output_type": "stream",
     "text": [
      "Constructed TRAM model: TramModel(\n",
      "  (nn_int): SimpleIntercept(\n",
      "    (fc): Linear(in_features=1, out_features=2, bias=False)\n",
      "  )\n",
      "  (nn_shift): ModuleList(\n",
      "    (0-12): 13 x LinearShift(\n",
      "      (fc): Linear(in_features=1, out_features=1, bias=False)\n",
      "    )\n",
      "  )\n",
      ")\n"
     ]
    },
    {
     "data": {
      "text/plain": [
       "TramModel(\n",
       "  (nn_int): SimpleIntercept(\n",
       "    (fc): Linear(in_features=1, out_features=2, bias=False)\n",
       "  )\n",
       "  (nn_shift): ModuleList(\n",
       "    (0-12): 13 x LinearShift(\n",
       "      (fc): Linear(in_features=1, out_features=1, bias=False)\n",
       "    )\n",
       "  )\n",
       ")"
      ]
     },
     "execution_count": 11,
     "metadata": {},
     "output_type": "execute_result"
    }
   ],
   "source": [
    "node='target'\n",
    "tram_model=get_fully_specified_tram_model('target', target_nodes, verbose=True)\n",
    "tram_model"
   ]
  },
  {
   "cell_type": "code",
   "execution_count": null,
   "id": "dfde5c15",
   "metadata": {},
   "outputs": [
    {
     "name": "stdout",
     "output_type": "stream",
     "text": [
      "Parents dtype: OrderedDict([('alcohol', 'cont'), ('malic_acid', 'cont'), ('ash', 'cont'), ('alcalinity_of_ash', 'cont'), ('magnesium', 'cont'), ('total_phenols', 'cont'), ('flavanoids', 'cont'), ('nonflavanoid_phenols', 'cont'), ('proanthocyanins', 'cont'), ('color_intensity', 'cont'), ('hue', 'cont'), ('od280/od315_of_diluted_wines', 'cont'), ('proline', 'cont')])\n"
     ]
    }
   ],
   "source": [
    "# from utils.tram_data import get_dataloader\n",
    "\n",
    "learning_rate=0.1\n",
    "use_scheduler=False\n",
    "\n",
    "\n",
    "NODE_DIR = os.path.join(EXPERIMENT_DIR, f'{node}')\n",
    "os.makedirs(NODE_DIR, exist_ok=True)\n",
    "\n",
    "MODEL_PATH,LAST_MODEL_PATH,TRAIN_HIST_PATH,VAL_HIST_PATH=model_train_val_paths(NODE_DIR)\n",
    "\n",
    "\n",
    "optimizer =torch.optim.Adam(tram_model.parameters(), lr=learning_rate)\n",
    "\n",
    "if use_scheduler:\n",
    "    scheduler = torch.optim.lr_scheduler.CosineAnnealingWarmRestarts(optimizer, T_0=10, T_mult=2)\n",
    "else:\n",
    "    scheduler = None\n",
    "\n",
    "train_loader, val_loader = get_dataloader(node, target_nodes, train_df, val_df, batch_size=128, verbose=True)\n"
   ]
  },
  {
   "cell_type": "code",
   "execution_count": null,
   "id": "6e48da1c",
   "metadata": {},
   "outputs": [
    {
     "name": "stdout",
     "output_type": "stream",
     "text": [
      "Min-Max values for target: tensor([0., 2.], device='cuda:0')\n",
      "torch.Size([2])\n",
      "Existing model found. Loading weights and history...\n"
     ]
    }
   ],
   "source": [
    "epochs =1000\n",
    "train_val_loop(\n",
    "            node,\n",
    "            target_nodes,\n",
    "            NODE_DIR,\n",
    "            tram_model,\n",
    "            train_loader,\n",
    "            val_loader,\n",
    "            epochs,\n",
    "            optimizer,\n",
    "            use_scheduler=False,\n",
    "            scheduler=False,\n",
    "            save_linear_shifts=False,\n",
    "            verbose=1,\n",
    "            device=device)\n"
   ]
  },
  {
   "cell_type": "markdown",
   "id": "8a57f405",
   "metadata": {},
   "source": [
    "# Evaluate"
   ]
  },
  {
   "cell_type": "code",
   "execution_count": 14,
   "id": "def7e535",
   "metadata": {},
   "outputs": [
    {
     "name": "stdout",
     "output_type": "stream",
     "text": [
      "Existing model found. Loading weights and history...\n"
     ]
    }
   ],
   "source": [
    "## laoding the best model \n",
    "MODEL_PATH,LAST_MODEL_PATH,TRAIN_HIST_PATH,VAL_HIST_PATH=model_train_val_paths(NODE_DIR)\n",
    "\n",
    "if os.path.exists(MODEL_PATH) and os.path.exists(TRAIN_HIST_PATH) and os.path.exists(VAL_HIST_PATH):\n",
    "    print(\"Existing model found. Loading weights and history...\")\n",
    "    tram_model.load_state_dict(torch.load(MODEL_PATH))"
   ]
  },
  {
   "cell_type": "code",
   "execution_count": null,
   "id": "c789baa1",
   "metadata": {},
   "outputs": [
    {
     "name": "stdout",
     "output_type": "stream",
     "text": [
      "Accuracy: 100.0%\n"
     ]
    }
   ],
   "source": [
    "## evaluate on testdata\n",
    "tram_model.eval()\n",
    "\n",
    "_, ordered_transformation_terms_in_h, _=ordered_parents(node, target_nodes)\n",
    "\n",
    "min_vals = torch.tensor(target_nodes[node]['min'], dtype=torch.float32).to(device)\n",
    "max_vals = torch.tensor(target_nodes[node]['max'], dtype=torch.float32).to(device)\n",
    "min_max = torch.stack([min_vals, max_vals], dim=0)\n",
    "\n",
    "with torch.no_grad():\n",
    "    \n",
    "    \n",
    "    for x, y in val_loader:\n",
    "        y = y.to(device)\n",
    "        \n",
    "        int_input, shift_list = preprocess_inputs(x, ordered_transformation_terms_in_h.values(), device=device)\n",
    "        y_pred = tram_model(int_input=int_input, shift_input=shift_list)\n",
    "        # loss = contram_nll(y_pred, y, min_max=min_max)\n",
    "        pred_labels = get_pdf_ordinal(get_cdf_ordinal(y_pred)).argmax(dim=1)\n",
    "        true_labels = y.argmax(dim=1)\n",
    "        accuracy = (pred_labels == true_labels).float().mean().item()\n",
    "\n",
    "        print(f\"Accuracy: {accuracy*100:.1f}%\")  # → 100.0%"
   ]
  }
 ],
 "metadata": {
  "kernelspec": {
   "display_name": "tramdag",
   "language": "python",
   "name": "python3"
  },
  "language_info": {
   "codemirror_mode": {
    "name": "ipython",
    "version": 3
   },
   "file_extension": ".py",
   "mimetype": "text/x-python",
   "name": "python",
   "nbconvert_exporter": "python",
   "pygments_lexer": "ipython3",
   "version": "3.9.21"
  }
 },
 "nbformat": 4,
 "nbformat_minor": 5
}
