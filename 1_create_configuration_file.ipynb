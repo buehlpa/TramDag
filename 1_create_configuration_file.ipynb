{
 "cells": [
  {
   "cell_type": "code",
   "execution_count": 2,
   "id": "a725b76a",
   "metadata": {},
   "outputs": [],
   "source": [
    "# pip install -i https://test.pypi.org/simple --extra-index-url https://pypi.org/simple tramdag\n",
    "\n",
    "import os\n",
    "from tramdag import TramDagModel, TramDagConfig"
   ]
  },
  {
   "cell_type": "markdown",
   "id": "837dbe6c",
   "metadata": {},
   "source": [
    "## Graph & Model Specifics"
   ]
  },
  {
   "cell_type": "code",
   "execution_count": 3,
   "id": "0ceed40d",
   "metadata": {},
   "outputs": [],
   "source": [
    "experiment_name = \"test_again\"      ## <--- set experiment name\n",
    "LOG_DIR=\"/home/bule/TramDag/dev_experiment_logs\"  ## <--- set log directory\n",
    "EXPERIMENT_DIR = os.path.join(LOG_DIR, experiment_name)\n",
    "CONF_DICT_PATH = os.path.join(EXPERIMENT_DIR, f\"configuration.json\")"
   ]
  },
  {
   "cell_type": "code",
   "execution_count": 7,
   "id": "47642b84",
   "metadata": {},
   "outputs": [
    {
     "name": "stdout",
     "output_type": "stream",
     "text": [
      "Created new configuration file at /home/bule/TramDag/experiment_1/configuration.json\n"
     ]
    }
   ],
   "source": [
    "cfg=TramDagConfig()\n",
    "cfg.setup_configuration() # works also without arguments, then default paths are used \n"
   ]
  },
  {
   "cell_type": "code",
   "execution_count": 8,
   "id": "3ee01873",
   "metadata": {},
   "outputs": [
    {
     "name": "stdout",
     "output_type": "stream",
     "text": [
      "---------------------------------------------------------------------------------------------------------\n",
      "                                       |                       MODEL SETTINGS                       \n",
      "Variable             | dtype           | As Predictor                   | As Target                     \n",
      "---------------------------------------------------------------------------------------------------------\n",
      "x1                   | continous       | continuous [c]                 | continuous [c]                \n",
      "x2                   | continous       | continuous [c]                 | continuous [c]                \n",
      "x3                   | continous       | continuous [c]                 | continuous [c]                \n",
      "x4                   | continous       | continuous [c]                 | continuous [c]                \n",
      "x5                   | continous       | continuous [c]                 | continuous [c]                \n",
      "x6                   | continous       | continuous [c]                 | continuous [c]                \n",
      "x7                   | continous       | continuous [c]                 | continuous [c]                \n",
      "---------------------------------------------------------------------------------------------------------\n",
      "Configuration updated successfully at /home/bule/TramDag/experiment_1/configuration.json.\n"
     ]
    }
   ],
   "source": [
    "# here you need to specify which varibles are in the graph and what type they are (continous or ordinal) for the model builder \n",
    "# Provide the data types already in causal order such that the first variable is a root node, the second variable is either a root node or a child of the first variable, etc.\n",
    "\n",
    "data_type= {'x1':'continous',\n",
    "            'x2':'continous',\n",
    "            'x3':'continous',\n",
    "            'x4':'continous',\n",
    "            'x5':'continous',\n",
    "            'x6':'continous',\n",
    "            'x7':'continous',} \n",
    "\n",
    "cfg.set_data_type(data_type)"
   ]
  },
  {
   "cell_type": "code",
   "execution_count": 9,
   "id": "b3e72972",
   "metadata": {},
   "outputs": [
    {
     "name": "stdout",
     "output_type": "stream",
     "text": [
      "No matrix found. Please fill out the DAG and click 'Generate'.\n",
      "--------------HINT:-------------\n",
      "\n",
      "Enter 0 if no arrow exists.\n",
      "\n",
      "ls = Linear shift\n",
      "cs = Complex shift\n",
      "\n",
      "ci = Complex intercept\n",
      "Simple intercepts must NOT be specified — they are automatically provided unless a complex intercept is defined.\n",
      "\n",
      "If variables interact, specify interaction terms as follows:\n",
      "  Example: cs(x1,x2)\n",
      "    → at x1: cs11\n",
      "    → at x2: cs12\n",
      "If another interacting group exists (e.g. x3, x4) on the same node:\n",
      "    → at x3: cs21\n",
      "    → at x4: cs22\n",
      "\n",
      "the sam e works for complex intercept but only one group is allowd:\n",
      "Note: The first number denotes the interaction group, and the second the participant. This numbering scheme is used internally to maintain consistent input ordering.\n"
     ]
    },
    {
     "data": {
      "application/vnd.jupyter.widget-view+json": {
       "model_id": "6cbc07bcc32041deb5627197696d4f15",
       "version_major": 2,
       "version_minor": 0
      },
      "text/plain": [
       "VBox(children=(Label(value=\"Fill in the adjacency matrix (upper triangle only).: Use 'ls', 'cs', etc. to defin…"
      ]
     },
     "metadata": {},
     "output_type": "display_data"
    }
   ],
   "source": [
    "cfg.set_tramdag_terms()"
   ]
  },
  {
   "cell_type": "code",
   "execution_count": 6,
   "id": "223a03f7",
   "metadata": {},
   "outputs": [
    {
     "name": "stdout",
     "output_type": "stream",
     "text": [
      "No matrix found. Please fill out the DAG and click 'Generate'.\n"
     ]
    },
    {
     "data": {
      "application/vnd.jupyter.widget-view+json": {
       "model_id": "ea4ae45bbdb74efc8b8e4a683b22cb5e",
       "version_major": 2,
       "version_minor": 0
      },
      "text/plain": [
       "VBox(children=(Label(value=\"Fill in the adjacency matrix (upper triangle only). Use 'ls', 'cs', etc. row:FROM …"
      ]
     },
     "metadata": {},
     "output_type": "display_data"
    }
   ],
   "source": [
    "interactive_adj_matrix(CONF_DICT_PATH,seed=13)"
   ]
  },
  {
   "cell_type": "code",
   "execution_count": 7,
   "id": "c31faf23",
   "metadata": {},
   "outputs": [
    {
     "name": "stdout",
     "output_type": "stream",
     "text": [
      "*************\n",
      " Model has Complex intercepts and Complex shifts, please add your Model to the modelzoo \n",
      "*************\n"
     ]
    },
    {
     "data": {
      "application/vnd.jupyter.widget-view+json": {
       "model_id": "bf74aed9f5094deba925c2d480597abf",
       "version_major": 2,
       "version_minor": 0
      },
      "text/plain": [
       "VBox(children=(Label(value='Edit only the existing model names (non-zero entries).'), GridBox(children=(Label(…"
      ]
     },
     "metadata": {},
     "output_type": "display_data"
    }
   ],
   "source": [
    "interactive_nn_names_matrix(CONF_DICT_PATH, seed=5)"
   ]
  }
 ],
 "metadata": {
  "kernelspec": {
   "display_name": "tramdag_test",
   "language": "python",
   "name": "python3"
  },
  "language_info": {
   "codemirror_mode": {
    "name": "ipython",
    "version": 3
   },
   "file_extension": ".py",
   "mimetype": "text/x-python",
   "name": "python",
   "nbconvert_exporter": "python",
   "pygments_lexer": "ipython3",
   "version": "3.9.24"
  }
 },
 "nbformat": 4,
 "nbformat_minor": 5
}
