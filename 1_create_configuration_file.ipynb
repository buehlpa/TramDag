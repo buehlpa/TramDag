{
 "cells": [
  {
   "cell_type": "code",
   "execution_count": 2,
   "id": "a725b76a",
   "metadata": {},
   "outputs": [],
   "source": [
    "import os\n",
    "from utils.configuration import *"
   ]
  },
  {
   "cell_type": "markdown",
   "id": "837dbe6c",
   "metadata": {},
   "source": [
    "## Graph & Model Specifics"
   ]
  },
  {
   "cell_type": "code",
   "execution_count": 3,
   "id": "0ceed40d",
   "metadata": {},
   "outputs": [],
   "source": [
    "experiment_name = \"create_configration_test\"      ## <--- set experiment name\n",
    "LOG_DIR=\"/home/bule/TramDag/dev_experiment_logs\"  ## <--- set log directory"
   ]
  },
  {
   "cell_type": "code",
   "execution_count": 4,
   "id": "f7cca4d6",
   "metadata": {},
   "outputs": [],
   "source": [
    "EXPERIMENT_DIR = os.path.join(LOG_DIR, experiment_name)\n",
    "DATA_PATH = EXPERIMENT_DIR # <----------- change to different source if needed\n",
    "CONF_DICT_PATH = os.path.join(EXPERIMENT_DIR, f\"configuration.json\")"
   ]
  },
  {
   "cell_type": "code",
   "execution_count": 5,
   "id": "47642b84",
   "metadata": {},
   "outputs": [
    {
     "name": "stdout",
     "output_type": "stream",
     "text": [
      "Created new configuration file at /home/bule/TramDag/dev_experiment_logs/create_configration_test/configuration.json\n"
     ]
    }
   ],
   "source": [
    "os.makedirs(EXPERIMENT_DIR,exist_ok=True)\n",
    "# check if configration dict already exists if not create:\n",
    "if os.path.exists(CONF_DICT_PATH):\n",
    "    configuration_dict=load_configuration_dict(CONF_DICT_PATH)\n",
    "    print(f\"Loaded existing configuration from {CONF_DICT_PATH}\")\n",
    "else:\n",
    "    configuration_dict=create_and_write_new_configuration_dict(experiment_name,CONF_DICT_PATH,EXPERIMENT_DIR,DATA_PATH,LOG_DIR)\n",
    "    print(f\"Created new configuration file at {CONF_DICT_PATH}\")"
   ]
  },
  {
   "cell_type": "code",
   "execution_count": 6,
   "id": "3ee01873",
   "metadata": {},
   "outputs": [
    {
     "name": "stdout",
     "output_type": "stream",
     "text": [
      "Variable 'x1' is modeled as a continuous variable. for target and predictor.\n",
      "Variable 'x2' is modeled as a continuous variable. for target and predictor.\n",
      "Variable 'x3' is modeled as a continuous variable. for target and predictor.\n",
      "Configuration updated successfully.\n"
     ]
    }
   ],
   "source": [
    "# here you need to specify which varibles are in the graph and what type they are (continous or ordinal) for the model builder \n",
    "data_type= {'x1':'continous',\n",
    "            'x2':'continous',\n",
    "            'x3':'continous'} \n",
    "\n",
    "write_data_type_to_configuration(data_type, CONF_DICT_PATH)"
   ]
  },
  {
   "cell_type": "code",
   "execution_count": 7,
   "id": "223a03f7",
   "metadata": {},
   "outputs": [
    {
     "name": "stdout",
     "output_type": "stream",
     "text": [
      "No matrix found. Please fill out the DAG and click 'Generate'.\n"
     ]
    },
    {
     "data": {
      "application/vnd.jupyter.widget-view+json": {
       "model_id": "96327a01bb7a4814bb927c76f6a9b7c8",
       "version_major": 2,
       "version_minor": 0
      },
      "text/plain": [
       "VBox(children=(Label(value=\"Fill in the adjacency matrix (upper triangle only). Use 'ls', 'cs', etc. row:FROM …"
      ]
     },
     "metadata": {},
     "output_type": "display_data"
    }
   ],
   "source": [
    "interactive_adj_matrix(CONF_DICT_PATH,seed=13)"
   ]
  },
  {
   "cell_type": "code",
   "execution_count": 8,
   "id": "c31faf23",
   "metadata": {},
   "outputs": [
    {
     "name": "stdout",
     "output_type": "stream",
     "text": [
      "*************\n",
      " Model has Complex intercepts and Complex shifts, please add your Model to the modelzoo \n",
      "*************\n"
     ]
    },
    {
     "data": {
      "application/vnd.jupyter.widget-view+json": {
       "model_id": "302b464e7468429dbf7909b0ef85eaf1",
       "version_major": 2,
       "version_minor": 0
      },
      "text/plain": [
       "VBox(children=(Label(value='Edit only the existing model names (non-zero entries).'), GridBox(children=(Label(…"
      ]
     },
     "metadata": {},
     "output_type": "display_data"
    }
   ],
   "source": [
    "interactive_nn_names_matrix(CONF_DICT_PATH, seed=5)"
   ]
  }
 ],
 "metadata": {
  "kernelspec": {
   "display_name": "tramdag_from_freeze",
   "language": "python",
   "name": "python3"
  },
  "language_info": {
   "codemirror_mode": {
    "name": "ipython",
    "version": 3
   },
   "file_extension": ".py",
   "mimetype": "text/x-python",
   "name": "python",
   "nbconvert_exporter": "python",
   "pygments_lexer": "ipython3",
   "version": "3.9.23"
  }
 },
 "nbformat": 4,
 "nbformat_minor": 5
}
