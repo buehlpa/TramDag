{
 "cells": [
  {
   "cell_type": "code",
   "execution_count": 2,
   "id": "a725b76a",
   "metadata": {},
   "outputs": [],
   "source": [
    "import os\n",
    "from utils.configuration import *"
   ]
  },
  {
   "cell_type": "markdown",
   "id": "837dbe6c",
   "metadata": {},
   "source": [
    "## Graph & Model Specifics"
   ]
  },
  {
   "cell_type": "code",
   "execution_count": 3,
   "id": "0ceed40d",
   "metadata": {},
   "outputs": [],
   "source": [
    "experiment_name = \"test_Dataset\"      ## <--- set experiment name\n",
    "LOG_DIR=\"/home/bule/TramDag/dev_experiment_logs\"  ## <--- set log directory\n",
    "EXPERIMENT_DIR = os.path.join(LOG_DIR, experiment_name)\n",
    "CONF_DICT_PATH = os.path.join(EXPERIMENT_DIR, f\"configuration.json\")"
   ]
  },
  {
   "cell_type": "code",
   "execution_count": 4,
   "id": "47642b84",
   "metadata": {},
   "outputs": [
    {
     "name": "stdout",
     "output_type": "stream",
     "text": [
      "Created new configuration file at /home/bule/TramDag/dev_experiment_logs/test_Dataset/configuration.json\n"
     ]
    }
   ],
   "source": [
    "setup_configuration(experiment_name,EXPERIMENT_DIR)"
   ]
  },
  {
   "cell_type": "code",
   "execution_count": 5,
   "id": "3ee01873",
   "metadata": {},
   "outputs": [
    {
     "name": "stdout",
     "output_type": "stream",
     "text": [
      "Variable 'x1' is modeled as a continuous variable. for target and predictor.\n",
      "Variable 'x2' is modeled as a continuous variable. for target and predictor.\n",
      "Variable 'x3' is modeled as a continuous variable. for target and predictor.\n",
      "Variable 'x4' is modeled as a continuous variable. for target and predictor.\n",
      "Variable 'x5' is modeled as a continuous variable. for target and predictor.\n",
      "Variable 'x6' is modeled as a continuous variable. for target and predictor.\n",
      "Variable 'x7' is modeled as a continuous variable. for target and predictor.\n",
      "Configuration updated successfully.\n"
     ]
    }
   ],
   "source": [
    "# here you need to specify which varibles are in the graph and what type they are (continous or ordinal) for the model builder \n",
    "data_type= {'x1':'continous',\n",
    "            'x2':'continous',\n",
    "            'x3':'continous',\n",
    "            'x4':'continous',\n",
    "            'x5':'continous',\n",
    "            'x6':'continous',\n",
    "            'x7':'continous',} \n",
    "\n",
    "write_data_type_to_configuration(data_type, CONF_DICT_PATH)"
   ]
  },
  {
   "cell_type": "code",
   "execution_count": 6,
   "id": "223a03f7",
   "metadata": {},
   "outputs": [
    {
     "name": "stdout",
     "output_type": "stream",
     "text": [
      "No matrix found. Please fill out the DAG and click 'Generate'.\n"
     ]
    },
    {
     "data": {
      "application/vnd.jupyter.widget-view+json": {
       "model_id": "ea4ae45bbdb74efc8b8e4a683b22cb5e",
       "version_major": 2,
       "version_minor": 0
      },
      "text/plain": [
       "VBox(children=(Label(value=\"Fill in the adjacency matrix (upper triangle only). Use 'ls', 'cs', etc. row:FROM …"
      ]
     },
     "metadata": {},
     "output_type": "display_data"
    }
   ],
   "source": [
    "interactive_adj_matrix(CONF_DICT_PATH,seed=13)"
   ]
  },
  {
   "cell_type": "code",
   "execution_count": 7,
   "id": "c31faf23",
   "metadata": {},
   "outputs": [
    {
     "name": "stdout",
     "output_type": "stream",
     "text": [
      "*************\n",
      " Model has Complex intercepts and Complex shifts, please add your Model to the modelzoo \n",
      "*************\n"
     ]
    },
    {
     "data": {
      "application/vnd.jupyter.widget-view+json": {
       "model_id": "bf74aed9f5094deba925c2d480597abf",
       "version_major": 2,
       "version_minor": 0
      },
      "text/plain": [
       "VBox(children=(Label(value='Edit only the existing model names (non-zero entries).'), GridBox(children=(Label(…"
      ]
     },
     "metadata": {},
     "output_type": "display_data"
    }
   ],
   "source": [
    "interactive_nn_names_matrix(CONF_DICT_PATH, seed=5)"
   ]
  }
 ],
 "metadata": {
  "kernelspec": {
   "display_name": "tramdag_from_freeze",
   "language": "python",
   "name": "python3"
  },
  "language_info": {
   "codemirror_mode": {
    "name": "ipython",
    "version": 3
   },
   "file_extension": ".py",
   "mimetype": "text/x-python",
   "name": "python",
   "nbconvert_exporter": "python",
   "pygments_lexer": "ipython3",
   "version": "3.9.23"
  }
 },
 "nbformat": 4,
 "nbformat_minor": 5
}
