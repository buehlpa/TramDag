{
 "cells": [
  {
   "cell_type": "code",
   "execution_count": 3,
   "id": "a725b76a",
   "metadata": {},
   "outputs": [],
   "source": [
    "import os\n",
    "os.environ['CUDA_LAUNCH_BLOCKING'] = '1'\n",
    "from utils.configuration import *"
   ]
  },
  {
   "cell_type": "markdown",
   "id": "837dbe6c",
   "metadata": {},
   "source": [
    "## Graph & Model Specifics"
   ]
  },
  {
   "cell_type": "code",
   "execution_count": 1,
   "id": "0ceed40d",
   "metadata": {},
   "outputs": [],
   "source": [
    "experiment_name = \"create_configration_test4\"      ## <--- set experiment name\n",
    "LOG_DIR=\"/home/bule/TramDag/dev_experiment_logs\"  ## <--- set log directory"
   ]
  },
  {
   "cell_type": "code",
   "execution_count": 4,
   "id": "f7cca4d6",
   "metadata": {},
   "outputs": [],
   "source": [
    "EXPERIMENT_DIR = os.path.join(LOG_DIR, experiment_name)\n",
    "DATA_PATH = EXPERIMENT_DIR # <----------- change to different source if needed\n",
    "CONF_DICT_PATH = os.path.join(EXPERIMENT_DIR, f\"configuration.json\")"
   ]
  },
  {
   "cell_type": "code",
   "execution_count": 5,
   "id": "47642b84",
   "metadata": {},
   "outputs": [
    {
     "name": "stdout",
     "output_type": "stream",
     "text": [
      "Created new configuration file at /home/bule/TramDag/dev_experiment_logs/create_configration_test4/configuration.json\n"
     ]
    }
   ],
   "source": [
    "os.makedirs(EXPERIMENT_DIR,exist_ok=True)\n",
    "# check if configration dict already exists if not create:\n",
    "if os.path.exists(CONF_DICT_PATH):\n",
    "    configuration_dict=load_configuration_dict(CONF_DICT_PATH)\n",
    "    print(f\"Loaded existing configuration from {CONF_DICT_PATH}\")\n",
    "else:\n",
    "    configuration_dict=create_and_write_new_configuration_dict(experiment_name,CONF_DICT_PATH,EXPERIMENT_DIR,DATA_PATH,LOG_DIR)\n",
    "    print(f\"Created new configuration file at {CONF_DICT_PATH}\")"
   ]
  },
  {
   "cell_type": "code",
   "execution_count": 6,
   "id": "3ee01873",
   "metadata": {},
   "outputs": [
    {
     "name": "stdout",
     "output_type": "stream",
     "text": [
      "Variable 'x1' is modeled as a continuous variable. for target and predictor.\n",
      "Variable 'x2' is modeled as a continuous variable. for target and predictor.\n",
      "Variable 'x3' is modeled as a continuous variable. for target and predictor.\n",
      "Variable 'x4' is modeled as a continuous variable. for target and predictor.\n",
      "Variable 'x5' is modeled as a continuous variable. for target and predictor.\n",
      "Variable 'x6' is modeled as a continuous variable. for target and predictor.\n",
      "Variable 'x7' is modeled as a continuous variable. for target and predictor.\n",
      "Configuration updated successfully.\n"
     ]
    }
   ],
   "source": [
    "# here you need to specify which varibles are in the graph and what type they are (continous or ordinal) for the model builder \n",
    "data_type= {'x1':'continous',\n",
    "            'x2':'continous',\n",
    "            'x3':'continous',\n",
    "            'x4':'continous',\n",
    "            'x5':'continous',\n",
    "            'x6':'continous',\n",
    "            'x7':'continous'} \n",
    "\n",
    "write_data_type_to_configuration(data_type, CONF_DICT_PATH)"
   ]
  },
  {
   "cell_type": "code",
   "execution_count": 8,
   "id": "223a03f7",
   "metadata": {},
   "outputs": [
    {
     "name": "stdout",
     "output_type": "stream",
     "text": [
      "No matrix found. Please fill out the DAG and click 'Generate'.\n"
     ]
    },
    {
     "data": {
      "application/vnd.jupyter.widget-view+json": {
       "model_id": "b2064fdb7412449eb6ab91bebed0adc4",
       "version_major": 2,
       "version_minor": 0
      },
      "text/plain": [
       "VBox(children=(Label(value=\"Fill in the adjacency matrix (upper triangle only). Use 'ls', 'cs', etc. row:FROM …"
      ]
     },
     "metadata": {},
     "output_type": "display_data"
    }
   ],
   "source": [
    "interactive_adj_matrix(CONF_DICT_PATH,seed=13)"
   ]
  },
  {
   "cell_type": "code",
   "execution_count": 9,
   "id": "c31faf23",
   "metadata": {},
   "outputs": [
    {
     "name": "stdout",
     "output_type": "stream",
     "text": [
      "*************\n",
      " Model has Complex intercepts and Complex shifts, please add your Model to the modelzoo \n",
      "*************\n"
     ]
    },
    {
     "data": {
      "application/vnd.jupyter.widget-view+json": {
       "model_id": "1fba8c78f6aa4546992fd8cc7d31020f",
       "version_major": 2,
       "version_minor": 0
      },
      "text/plain": [
       "VBox(children=(Label(value='Edit only the existing model names (non-zero entries).'), GridBox(children=(Label(…"
      ]
     },
     "metadata": {},
     "output_type": "display_data"
    }
   ],
   "source": [
    "interactive_nn_names_matrix(CONF_DICT_PATH, seed=5)"
   ]
  },
  {
   "cell_type": "code",
   "execution_count": 10,
   "id": "6fc190a2",
   "metadata": {},
   "outputs": [
    {
     "name": "stdout",
     "output_type": "stream",
     "text": [
      "{'x1': {'Modelnr': 0, 'data_type': 'continous', 'node_type': 'source', 'parents': [], 'parents_datatype': {}, 'transformation_terms_in_h()': {}, 'batch_size': 512, 'epochs': 100, 'learning_rate': 0.01, 'use_scheduler': False, 'transformation_term_nn_models_in_h()': {}}, 'x2': {'Modelnr': 1, 'data_type': 'continous', 'node_type': 'internal', 'parents': ['x1'], 'parents_datatype': {'x1': 'continous'}, 'transformation_terms_in_h()': {'x1': np.str_('ls')}, 'batch_size': 512, 'epochs': 100, 'learning_rate': 0.01, 'use_scheduler': False, 'transformation_term_nn_models_in_h()': {'x1': np.str_('LinearShift')}}, 'x3': {'Modelnr': 2, 'data_type': 'continous', 'node_type': 'internal', 'parents': ['x1', 'x2'], 'parents_datatype': {'x1': 'continous', 'x2': 'continous'}, 'transformation_terms_in_h()': {'x1': np.str_('ls'), 'x2': np.str_('ls')}, 'batch_size': 512, 'epochs': 100, 'learning_rate': 0.01, 'use_scheduler': False, 'transformation_term_nn_models_in_h()': {'x1': np.str_('LinearShift'), 'x2': np.str_('LinearShift')}}, 'x4': {'Modelnr': 3, 'data_type': 'continous', 'node_type': 'internal', 'parents': ['x1', 'x2', 'x3'], 'parents_datatype': {'x1': 'continous', 'x2': 'continous', 'x3': 'continous'}, 'transformation_terms_in_h()': {'x1': np.str_('ls'), 'x2': np.str_('ls'), 'x3': np.str_('ls')}, 'batch_size': 512, 'epochs': 100, 'learning_rate': 0.01, 'use_scheduler': False, 'transformation_term_nn_models_in_h()': {'x1': np.str_('LinearShift'), 'x2': np.str_('LinearShift'), 'x3': np.str_('LinearShift')}}, 'x5': {'Modelnr': 4, 'data_type': 'continous', 'node_type': 'internal', 'parents': ['x1', 'x2', 'x3', 'x4'], 'parents_datatype': {'x1': 'continous', 'x2': 'continous', 'x3': 'continous', 'x4': 'continous'}, 'transformation_terms_in_h()': {'x1': np.str_('ls'), 'x2': np.str_('ls'), 'x3': np.str_('ls'), 'x4': np.str_('ls')}, 'batch_size': 512, 'epochs': 100, 'learning_rate': 0.01, 'use_scheduler': False, 'transformation_term_nn_models_in_h()': {'x1': np.str_('LinearShift'), 'x2': np.str_('LinearShift'), 'x3': np.str_('LinearShift'), 'x4': np.str_('LinearShift')}}, 'x6': {'Modelnr': 5, 'data_type': 'continous', 'node_type': 'internal', 'parents': ['x1', 'x2', 'x3', 'x4', 'x5'], 'parents_datatype': {'x1': 'continous', 'x2': 'continous', 'x3': 'continous', 'x4': 'continous', 'x5': 'continous'}, 'transformation_terms_in_h()': {'x1': np.str_('ls'), 'x2': np.str_('ls'), 'x3': np.str_('ls'), 'x4': np.str_('ls'), 'x5': np.str_('ls')}, 'batch_size': 512, 'epochs': 100, 'learning_rate': 0.01, 'use_scheduler': False, 'transformation_term_nn_models_in_h()': {'x1': np.str_('LinearShift'), 'x2': np.str_('LinearShift'), 'x3': np.str_('LinearShift'), 'x4': np.str_('LinearShift'), 'x5': np.str_('LinearShift')}}, 'x7': {'Modelnr': 6, 'data_type': 'continous', 'node_type': 'sink', 'parents': ['x1', 'x2', 'x3', 'x4', 'x5', 'x6'], 'parents_datatype': {'x1': 'continous', 'x2': 'continous', 'x3': 'continous', 'x4': 'continous', 'x5': 'continous', 'x6': 'continous'}, 'transformation_terms_in_h()': {'x1': np.str_('ci11'), 'x2': np.str_('ci12'), 'x3': np.str_('ci13'), 'x4': np.str_('ci14'), 'x5': np.str_('ci15'), 'x6': np.str_('ci16')}, 'batch_size': 512, 'epochs': 100, 'learning_rate': 0.01, 'use_scheduler': False, 'transformation_term_nn_models_in_h()': {'x1': np.str_('ComplexInterceptDefaultTabular11'), 'x2': np.str_('ComplexInterceptDefaultTabular12'), 'x3': np.str_('ComplexInterceptDefaultTabular13'), 'x4': np.str_('ComplexInterceptDefaultTabular14'), 'x5': np.str_('ComplexInterceptDefaultTabular15'), 'x6': np.str_('ComplexInterceptDefaultTabular16')}}}\n",
      "Configuration updated successfully.\n"
     ]
    }
   ],
   "source": [
    "write_nodes_information_to_configuration(CONF_DICT_PATH)"
   ]
  }
 ],
 "metadata": {
  "kernelspec": {
   "display_name": "tramdag_from_freeze",
   "language": "python",
   "name": "python3"
  },
  "language_info": {
   "codemirror_mode": {
    "name": "ipython",
    "version": 3
   },
   "file_extension": ".py",
   "mimetype": "text/x-python",
   "name": "python",
   "nbconvert_exporter": "python",
   "pygments_lexer": "ipython3",
   "version": "3.9.23"
  }
 },
 "nbformat": 4,
 "nbformat_minor": 5
}
