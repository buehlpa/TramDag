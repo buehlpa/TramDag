{
 "cells": [
  {
   "cell_type": "code",
   "execution_count": null,
   "id": "a5ed5c89",
   "metadata": {},
   "outputs": [],
   "source": [
    "#\"/home/bule/TramDag/dev_experiment_logs/test_Dataset/configuration.json\""
   ]
  },
  {
   "cell_type": "code",
   "execution_count": null,
   "id": "47f0b754",
   "metadata": {},
   "outputs": [],
   "source": [
    "# [DEBUG] Set df: type=<class 'pandas.core.frame.DataFrame'>, shape=(80000, 7)\n",
    "# [DEBUG] Set target_col: type=<class 'str'>, value=x7\n",
    "# [DEBUG] Set all_nodes_dict: type=<class 'dict'>, keys=['x1', 'x2', 'x3', 'x4', 'x5', 'x6', 'x7']\n",
    "# [DEBUG] Set parents_datatype_dict: type=<class 'collections.OrderedDict'>, keys=['x5', 'x4', 'x2', 'x6', 'x3', 'x1']\n",
    "# [DEBUG] Set transformation_terms_preprocessing: type=<class 'list'>, value=['ci11', 'ci12', 'cs', 'cs11', 'cs12', 'ls']\n",
    "# [DEBUG] Set predictors: type=<class 'list'>, value=['x5', 'x4', 'x2', 'x6', 'x3', 'x1']\n",
    "# [DEBUG] Set transform: type=<class 'NoneType'>, value=None\n",
    "# [DEBUG] Set h_needs_simple_intercept: type=<class 'bool'>, value=False\n",
    "# [DEBUG] Set target_data_type: type=<class 'str'>, value=continous\n",
    "# [DEBUG] Set target_num_classes: type=<class 'NoneType'>, value=None\n",
    "# [DEBUG] Intercept indices: [0, 1]\n",
    "# [DEBUG] Shift group indices: [[2], [3, 4], [5]]\n",
    "# [DEBUG] Set target_is_source: type=<class 'bool'>, value=False\n",
    "# [DEBUG] Set ordinal_num_classes: type=<class 'dict'>, value={}\n",
    "# [DEBUG] _check_multiclass_predictors_of_df: checked multiclass_predicitors passed\n",
    "# [DEBUG] _check_ordinal_levels: checked ordinal levels passed\n",
    "# [INFO] ------ Initalized all attributes of Genericdataset ------"
   ]
  }
 ],
 "metadata": {
  "language_info": {
   "name": "python"
  }
 },
 "nbformat": 4,
 "nbformat_minor": 5
}
