{
 "cells": [
  {
   "cell_type": "markdown",
   "id": "0447acb9",
   "metadata": {},
   "source": [
    "in this file a potenitla api is developed for the tramdag "
   ]
  },
  {
   "cell_type": "code",
   "execution_count": null,
   "id": "363bd9f2",
   "metadata": {},
   "outputs": [],
   "source": [
    "\"config.json\" has to be created either manually or by running createw_config.ipynb first!"
   ]
  },
  {
   "cell_type": "code",
   "execution_count": null,
   "id": "b2f8fd75",
   "metadata": {},
   "outputs": [],
   "source": [
    "cfg=TramDagConfig.load(\"config.json\") # basically just loads a json file to a dictionary\n",
    "\n",
    "\n",
    "# checks all specifications and throws warnings\n",
    "# returns a dict"
   ]
  },
  {
   "cell_type": "code",
   "execution_count": null,
   "id": "b3923c02",
   "metadata": {},
   "outputs": [],
   "source": [
    "train_data=TramDagDataset.from_dataframe(df_train,which_set='train',cfg) \n",
    "\n",
    "# additonal arguments could be batch_size, num_workers, pin_memory etc \n",
    "\n",
    "# returs a dictionary with {'x1':dataloader1,'x2':dataloader2,...}"
   ]
  },
  {
   "cell_type": "code",
   "execution_count": null,
   "id": "17f5ef99",
   "metadata": {},
   "outputs": [],
   "source": [
    "td_model = TramDagModel.from_config(cfg) \n",
    "\n",
    "# builds the models according to the config\n",
    "# returns a dict of TramModels for each node {'x1':model1,'x2':model2,...}"
   ]
  },
  {
   "cell_type": "code",
   "execution_count": null,
   "id": "5629f348",
   "metadata": {},
   "outputs": [],
   "source": [
    "td_trainer = TramDagTrainer(cfg, learning_rate,  device=\"auto\")\n",
    "\n",
    "# returns a trainer object which can train all models in the dag independently\n",
    "\n",
    "\n",
    "\n",
    "td_fit=td_trainer.fit(td_model, train_data, val_data, train_list=['x1','x2','x3'], epochs=100, callbacks=[])\n",
    "\n",
    "\n"
   ]
  }
 ],
 "metadata": {
  "kernelspec": {
   "display_name": "tramdag",
   "language": "python",
   "name": "python3"
  },
  "language_info": {
   "name": "python",
   "version": "3.9.21"
  }
 },
 "nbformat": 4,
 "nbformat_minor": 5
}
