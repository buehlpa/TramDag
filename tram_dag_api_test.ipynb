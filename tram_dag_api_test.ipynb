{
 "cells": [
  {
   "cell_type": "code",
   "execution_count": 1,
   "id": "1ab5f8ec",
   "metadata": {},
   "outputs": [],
   "source": [
    "from utils.tramdag import *"
   ]
  },
  {
   "cell_type": "markdown",
   "id": "b3282fc9",
   "metadata": {},
   "source": [
    "# TESTING API"
   ]
  },
  {
   "cell_type": "markdown",
   "id": "e43fcacf",
   "metadata": {},
   "source": [
    "####  Configuration\n",
    "create  a config file e.g. with create_config.ipynb\n",
    "load the file and compute necessary values on the cfg based on data"
   ]
  },
  {
   "cell_type": "code",
   "execution_count": 8,
   "id": "52f2a3e2",
   "metadata": {},
   "outputs": [
    {
     "name": "stdout",
     "output_type": "stream",
     "text": [
      "\n",
      "[INFO] Training node 'x1' for 593 epochs on cuda\n",
      "[INFO] Existing model found. Loading weights and history...\n",
      "\n",
      "[INFO] Training node 'x2' for 593 epochs on cuda\n",
      "[INFO] Existing model found. Loading weights and history...\n",
      "\n",
      "[INFO] Training node 'x3' for 593 epochs on cuda\n",
      "[INFO] Existing model found. Loading weights and history...\n",
      "\n",
      "===== Epoch 593/593 =====\n",
      "[TIMING REPORT after 10000 samples]\n",
      "  intercept_tensor     mean=1.575285e-07 min=1.257285e-07 max=4.047994e-06[TIMING REPORT after 10000 samples][TIMING REPORT after 10000 samples]\n",
      "\n",
      "  setup                mean=4.265674e-07 min=3.580935e-07 max=6.339047e-06\n",
      "  intercept_tensor     mean=1.623781e-07 min=1.243316e-07 max=6.493647e-06\n",
      "\n",
      "  slice_x1             mean=1.848566e-06 min=1.637265e-06 max=2.478780e-04  setup                mean=4.375291e-07 min=3.613532e-07 max=8.872245e-06\n",
      "\n",
      "  intercept_tensor     mean=1.607598e-07 min=1.229346e-07 max=5.939975e-06  slice_x2             mean=1.467672e-06 min=1.341105e-06 max=2.074335e-05  slice_x1             mean=1.897988e-06 min=1.617242e-06 max=3.777919e-04\n",
      "\n",
      "\n",
      "  setup                mean=4.329899e-07 min=3.702007e-07 max=6.416813e-06  predictors_total     mean=4.479444e-06 min=4.078727e-06 max=2.971697e-04\n",
      "\n",
      "  slice_x2             mean=1.512211e-06 min=1.368579e-06 max=3.644172e-05  slice_x1             mean=1.846886e-06 min=1.652632e-06 max=2.708221e-04\n",
      "  unsqueeze            mean=2.534343e-05 min=3.565103e-06 max=2.149100e-01\n",
      "\n",
      "  predictors_total     mean=4.635089e-06 min=4.112720e-06 max=4.607444e-04  preprocess_inputs    mean=1.808245e-05 min=1.542317e-05 max=7.320330e-04  slice_x2             mean=1.505207e-06 min=1.363922e-06 max=2.515502e-05\n",
      "\n",
      "\n",
      "  squeeze              mean=5.146216e-06 min=4.184898e-06 max=1.914441e-04  unsqueeze            mean=2.469458e-05 min=3.540888e-06 max=2.075248e-01\n",
      "\n",
      "  predictors_total     mean=4.592094e-06 min=4.137866e-06 max=3.283010e-04  package_output       mean=2.395177e-06 min=1.857057e-06 max=1.835730e-04\n",
      "\n",
      "  preprocess_inputs    mean=1.834618e-05 min=1.536217e-05 max=8.573309e-04\n",
      "  total                mean=5.678941e-05 min=3.075181e-05 max=2.150207e-01\n",
      "  unsqueeze            mean=2.467848e-05 min=3.537163e-06 max=2.083069e-01  squeeze              mean=5.312786e-06 min=4.206318e-06 max=1.901998e-04\n",
      "\n",
      "  preprocess_inputs    mean=1.804455e-05 min=1.550419e-05 max=8.382457e-04\n",
      "  package_output       mean=2.429461e-06 min=1.825858e-06 max=1.841784e-04\n",
      "  squeeze              mean=5.137641e-06 min=4.145782e-06 max=1.865709e-04\n",
      "  total                mean=5.678845e-05 min=3.072107e-05 max=2.076152e-01  package_output       mean=2.382558e-06 min=1.832843e-06 max=1.872247e-04\n",
      "\n",
      "  total                mean=5.620540e-05 min=3.075926e-05 max=2.083975e-01\n",
      "[TIMING REPORT after 20000 samples]\n",
      "  intercept_tensor     mean=1.696758e-07 min=1.252629e-07 max=7.172115e-06\n",
      "  setup                mean=4.447918e-07 min=3.580935e-07 max=7.560011e-06\n",
      "[TIMING REPORT after 20000 samples]\n",
      "  slice_x1             mean=1.884581e-06 min=1.687091e-06 max=3.842171e-05\n",
      "  intercept_tensor     mean=1.607143e-07 min=1.247972e-07 max=6.027054e-06  slice_x2             mean=1.497742e-06 min=1.375098e-06 max=1.509674e-05\n",
      "\n",
      "  setup                mean=4.371739e-07 min=3.580935e-07 max=6.532297e-06  predictors_total     mean=4.534036e-06 min=4.146248e-06 max=9.395508e-05\n",
      "\n",
      "  slice_x1             mean=1.909920e-06 min=1.684763e-06 max=3.103260e-05  unsqueeze            mean=3.991021e-06 min=3.552996e-06 max=5.881069e-05\n",
      "\n",
      "  slice_x2             mean=1.515908e-06 min=1.378823e-06 max=7.791910e-06\n",
      "  preprocess_inputs    mean=1.851304e-05 min=1.546601e-05 max=9.066449e-04\n",
      "  predictors_total     mean=4.655047e-06 min=4.147179e-06 max=5.326513e-05\n",
      "  unsqueeze            mean=4.031599e-06 min=3.537629e-06 max=5.697412e-05  squeeze              mean=5.200360e-06 min=4.209112e-06 max=5.466212e-05\n",
      "\n",
      "  preprocess_inputs    mean=1.844941e-05 min=1.544598e-05 max=9.348290e-04  package_output       mean=2.426742e-06 min=1.875218e-06 max=1.063286e-04\n",
      "\n",
      "  squeeze              mean=5.259345e-06 min=4.150905e-06 max=1.919791e-04  total                mean=3.596488e-05 min=3.092363e-05 max=9.285910e-04\n",
      "\n",
      "  package_output       mean=2.426408e-06 min=1.829118e-06 max=1.800368e-04\n",
      "  total                mean=3.611708e-05 min=3.077602e-05 max=9.566462e-04\n",
      "[TIMING REPORT after 30000 samples]\n",
      "  intercept_tensor     mean=1.602169e-07 min=1.243316e-07 max=5.559064e-06\n",
      "  setup                mean=4.281359e-07 min=3.599562e-07 max=6.565824e-06\n",
      "  slice_x1             mean=1.825915e-06 min=1.621898e-06 max=2.916204e-05\n",
      "  slice_x2             mean=1.471263e-06 min=1.332723e-06 max=7.575843e-06\n",
      "  predictors_total     mean=4.484096e-06 min=3.970228e-06 max=3.710901e-05\n",
      "  unsqueeze            mean=4.720253e-06 min=3.382098e-06 max=7.739873e-04\n",
      "  preprocess_inputs    mean=3.735510e-05 min=1.477404e-05 max=1.965547e-01\n",
      "  squeeze              mean=5.130617e-06 min=4.054978e-06 max=1.882934e-04\n",
      "  package_output       mean=2.330409e-06 min=1.755077e-06 max=1.277588e-05\n",
      "  total                mean=5.528640e-05 min=2.936320e-05 max=1.965946e-01\n",
      "[TIMING REPORT after 30000 samples]\n",
      "  intercept_tensor     mean=1.745018e-07 min=1.220033e-07 max=8.164905e-06\n",
      "  setup                mean=4.727019e-07 min=3.580935e-07 max=9.992626e-06\n",
      "  slice_x1             mean=2.025720e-06 min=1.620036e-06 max=5.331403e-05\n",
      "  slice_x2             mean=1.618914e-06 min=1.315027e-06 max=1.495797e-05\n",
      "  predictors_total     mean=4.869681e-06 min=3.987923e-06 max=7.256493e-05\n",
      "  unsqueeze            mean=5.269004e-06 min=3.418420e-06 max=1.731523e-03\n",
      "  preprocess_inputs    mean=3.881145e-05 min=1.478614e-05 max=1.923386e-01\n",
      "  squeeze              mean=5.583712e-06 min=4.057307e-06 max=1.853020e-04\n",
      "  package_output       mean=2.572971e-06 min=1.758337e-06 max=1.831609e-04\n",
      "  total                mean=5.851462e-05 min=2.959836e-05 max=1.923727e-01\n",
      "[TIME] Batch 0 DataLoader fetch: 2.5040s\n",
      "[TIME] Move to device: 0.0006s\n",
      "[TIME] Forward: 0.0020s\n",
      "[TIME] Loss: 0.0026s\n",
      "[TIME] Backward+Step: 0.0059s\n",
      "[BATCH 0] Total batch time: 0.0113s\n",
      "\n",
      "[TIME] Batch 1 DataLoader fetch: 0.0140s\n",
      "[TIME] Move to device: 0.0003s\n",
      "[TIME] Forward: 0.0007s\n",
      "[TIME] Loss: 0.0020s\n",
      "[TIME] Backward+Step: 0.0047s\n",
      "[BATCH 1] Total batch time: 0.0079s\n",
      "\n",
      "[TIME] Batch 2 DataLoader fetch: 0.0001s\n",
      "[TIME] Move to device: 0.0002s\n",
      "[TIME] Forward: 0.0006s\n",
      "[TIME] Loss: 0.0017s\n",
      "[TIME] Backward+Step: 0.0046s\n",
      "[BATCH 2] Total batch time: 0.0073s\n",
      "\n",
      "[TIMING REPORT after 10000 samples]\n",
      "  intercept_tensor     mean=1.596204e-07 min=1.201406e-07 max=1.961831e-06\n",
      "  setup                mean=4.356413e-07 min=3.441237e-07 max=5.553011e-06\n",
      "  slice_x1             mean=1.885870e-06 min=1.535285e-06 max=5.326928e-04\n",
      "  slice_x2             mean=1.490081e-06 min=1.279172e-06 max=5.292380e-05\n",
      "  predictors_total     mean=4.599111e-06 min=3.859866e-06 max=6.428869e-04\n",
      "  unsqueeze            mean=2.304251e-05 min=3.301073e-06 max=1.915024e-01\n",
      "  preprocess_inputs    mean=1.836903e-05 min=1.454679e-05 max=1.435285e-03\n",
      "  squeeze              mean=5.271855e-06 min=3.969762e-06 max=2.715359e-04\n",
      "  package_output       mean=2.389786e-06 min=1.735985e-06 max=2.832478e-05\n",
      "  total                mean=5.506200e-05 min=2.891524e-05 max=1.916080e-01\n",
      "[VAL] Batch 0 DataLoader fetch: 0.9496s\n",
      "[VAL] Forward: 0.0024s\n",
      "[VAL] Loss: 0.0026s\n",
      "[VAL BATCH 0] Total batch time: 0.0057s\n",
      "[TIME] Saving epoch artifacts: 0.0023s\n",
      "[EPOCH 593] Train NLL: 1.2128 | Val NLL: 1.2064 | Epoch time: 3.61s\n"
     ]
    },
    {
     "data": {
      "text/plain": [
       "{'x1': None, 'x2': None, 'x3': None}"
      ]
     },
     "execution_count": 8,
     "metadata": {},
     "output_type": "execute_result"
    }
   ],
   "source": [
    "cfg = TramDagConfig.load(\"/home/bule/TramDag/dev_experiment_logs/exp_6_2/configuration.json\")\n",
    "# cfg.plot_dag()\n",
    "train_df=pd.read_csv('/home/bule/TramDag/dev_experiment_logs/exp_6_2/exp_6_2_train.csv')\n",
    "val_df=pd.read_csv('/home/bule/TramDag/dev_experiment_logs/exp_6_2/exp_6_2_val.csv')\n",
    "# splits \n",
    "td_model = TramDagModel.from_config(cfg, set_initial_weights=False,verbose=False) \n",
    "td_model.fit(train_df, val_df,epochs=593,batch_size=32, num_workers=0, persistent_workers=False, prefetch_factor=0 )\n"
   ]
  },
  {
   "cell_type": "code",
   "execution_count": null,
   "id": "eb0d5b9b",
   "metadata": {},
   "outputs": [],
   "source": [
    "model_hist=td_model.history()"
   ]
  },
  {
   "cell_type": "code",
   "execution_count": null,
   "id": "c7d2bdfe",
   "metadata": {},
   "outputs": [],
   "source": [
    "td_model.plot_history('x1')"
   ]
  },
  {
   "cell_type": "markdown",
   "id": "f286aa8b",
   "metadata": {},
   "source": [
    "## laoding from directory"
   ]
  },
  {
   "cell_type": "code",
   "execution_count": null,
   "id": "658adb26",
   "metadata": {},
   "outputs": [],
   "source": [
    "td_model = TramDagModel.from_directory('/home/bule/TramDag/dev_experiment_logs/exp_6_2',verbose = True)# funciton to get params / thetas"
   ]
  },
  {
   "cell_type": "code",
   "execution_count": null,
   "id": "46c3c651",
   "metadata": {},
   "outputs": [],
   "source": [
    "latents_df = td_model.get_latent(train_df)"
   ]
  },
  {
   "cell_type": "code",
   "execution_count": null,
   "id": "25fd172a",
   "metadata": {},
   "outputs": [],
   "source": [
    "td_model.show_latents( train_df)"
   ]
  },
  {
   "cell_type": "code",
   "execution_count": null,
   "id": "2a23fa80",
   "metadata": {},
   "outputs": [],
   "source": [
    "td_model.sample(do_interventions={'x1':1})"
   ]
  },
  {
   "cell_type": "code",
   "execution_count": null,
   "id": "952f6a63",
   "metadata": {},
   "outputs": [],
   "source": [
    "td_model.show_samples_vs_true(train_df)"
   ]
  }
 ],
 "metadata": {
  "kernelspec": {
   "display_name": "tramdag",
   "language": "python",
   "name": "python3"
  },
  "language_info": {
   "codemirror_mode": {
    "name": "ipython",
    "version": 3
   },
   "file_extension": ".py",
   "mimetype": "text/x-python",
   "name": "python",
   "nbconvert_exporter": "python",
   "pygments_lexer": "ipython3",
   "version": "3.9.21"
  }
 },
 "nbformat": 4,
 "nbformat_minor": 5
}
