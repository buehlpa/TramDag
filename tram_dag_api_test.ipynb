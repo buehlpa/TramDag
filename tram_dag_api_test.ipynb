{
 "cells": [
  {
   "cell_type": "code",
   "execution_count": 1,
   "id": "1ab5f8ec",
   "metadata": {},
   "outputs": [],
   "source": [
    "from utils.tramdag import *"
   ]
  },
  {
   "cell_type": "markdown",
   "id": "b3282fc9",
   "metadata": {},
   "source": [
    "# TESTING API"
   ]
  },
  {
   "cell_type": "markdown",
   "id": "e43fcacf",
   "metadata": {},
   "source": [
    "####  Configuration\n",
    "create  a config file e.g. with create_config.ipynb\n",
    "load the file and compute necessary values on the cfg based on data"
   ]
  },
  {
   "cell_type": "code",
   "execution_count": 2,
   "id": "52f2a3e2",
   "metadata": {},
   "outputs": [],
   "source": [
    "cfg = TramDagConfig.load(\"/home/bule/TramDag/dev_experiment_logs/exp_6_2/configuration.json\")"
   ]
  },
  {
   "cell_type": "markdown",
   "id": "71777831",
   "metadata": {},
   "source": [
    "#### Data (pandas dataframe)"
   ]
  },
  {
   "cell_type": "code",
   "execution_count": 3,
   "id": "0e61df5c",
   "metadata": {},
   "outputs": [],
   "source": [
    "train_df=pd.read_csv('/home/bule/TramDag/dev_experiment_logs/exp_6_2/exp_6_2_train.csv')\n",
    "val_df=pd.read_csv('/home/bule/TramDag/dev_experiment_logs/exp_6_2/exp_6_2_val.csv')\n",
    "# splits "
   ]
  },
  {
   "cell_type": "markdown",
   "id": "db5b0d2c",
   "metadata": {},
   "source": [
    "### Model\n",
    "create a TramdagModel from the Config file (optionally use COLR POLR as startign values)"
   ]
  },
  {
   "cell_type": "code",
   "execution_count": 4,
   "id": "c14991d2",
   "metadata": {},
   "outputs": [
    {
     "name": "stdout",
     "output_type": "stream",
     "text": [
      "\n",
      "[INFO] Building model for node 'x1' with settings: {'set_initial_weights': False, 'debug': False, 'verbose': False}\n",
      "\n",
      "[INFO] Building model for node 'x2' with settings: {'set_initial_weights': False, 'debug': False, 'verbose': False}\n",
      "\n",
      "[INFO] Building model for node 'x3' with settings: {'set_initial_weights': False, 'debug': False, 'verbose': False}\n"
     ]
    }
   ],
   "source": [
    "td_model = TramDagModel.from_config(cfg, set_initial_weights=False,verbose=False) "
   ]
  },
  {
   "cell_type": "code",
   "execution_count": 5,
   "id": "d137df96",
   "metadata": {},
   "outputs": [
    {
     "name": "stdout",
     "output_type": "stream",
     "text": [
      "\n",
      "[INFO] Training node 'x1' for 513 epochs on cuda\n",
      "[INFO] Existing model found. Loading weights and history...\n",
      "Epoch 513/513  Train NLL: -0.5745  Val NLL: -0.5781  [Train: 28.82s  Val: 1.56s  Total: 30.37s]\n",
      "\n",
      "[INFO] Training node 'x2' for 513 epochs on cuda\n",
      "[INFO] Existing model found. Loading weights and history...\n",
      "Epoch 513/513  Train NLL: 0.3471  Val NLL: 0.3418  [Train: 26.42s  Val: 1.75s  Total: 28.18s]\n",
      "\n",
      "[INFO] Training node 'x3' for 513 epochs on cuda\n",
      "[INFO] Existing model found. Loading weights and history...\n",
      "Epoch 513/513  Train NLL: 1.2137  Val NLL: 1.2074  [Train: 14.62s  Val: 1.47s  Total: 16.09s]\n"
     ]
    },
    {
     "data": {
      "text/plain": [
       "{'x1': None, 'x2': None, 'x3': None}"
      ]
     },
     "execution_count": 5,
     "metadata": {},
     "output_type": "execute_result"
    }
   ],
   "source": [
    "td_model.fit(train_df, val_df,epochs=513)"
   ]
  }
 ],
 "metadata": {
  "kernelspec": {
   "display_name": "tramdag",
   "language": "python",
   "name": "python3"
  },
  "language_info": {
   "codemirror_mode": {
    "name": "ipython",
    "version": 3
   },
   "file_extension": ".py",
   "mimetype": "text/x-python",
   "name": "python",
   "nbconvert_exporter": "python",
   "pygments_lexer": "ipython3",
   "version": "3.9.21"
  }
 },
 "nbformat": 4,
 "nbformat_minor": 5
}
