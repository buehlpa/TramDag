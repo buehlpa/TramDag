{
 "cells": [
  {
   "cell_type": "markdown",
   "id": "32793ca7",
   "metadata": {},
   "source": [
    "# minimal example of ontram implementation\n",
    "- anlogous to https://github.com/liherz/ontram_pytorch.git"
   ]
  },
  {
   "cell_type": "code",
   "execution_count": 1,
   "id": "ee5f4e66",
   "metadata": {},
   "outputs": [],
   "source": [
    "# Load dependencies\n",
    "import numpy as np\n",
    "from matplotlib import pyplot as plt\n",
    "import pandas as pd\n",
    "import os\n",
    "from sklearn.datasets import load_wine\n",
    "from sklearn.preprocessing import StandardScaler\n",
    "from sklearn.model_selection import train_test_split\n",
    "\n",
    "import torch\n",
    "import torch.nn as nn \n",
    "import torch.nn.functional as F\n",
    "from torch.utils.data import DataLoader, TensorDataset\n",
    "\n",
    "from utils.graph import *"
   ]
  },
  {
   "cell_type": "code",
   "execution_count": 2,
   "id": "7bd61311",
   "metadata": {},
   "outputs": [],
   "source": [
    "experiment_name = \"ordinal_example\"   ## <--- set experiment name\n",
    "seed=42\n",
    "np.random.seed(seed)\n",
    "\n",
    "LOG_DIR=\"/home/bule/TramDag/dev_experiment_logs\"\n",
    "EXPERIMENT_DIR = os.path.join(LOG_DIR, experiment_name)\n",
    "DATA_PATH = EXPERIMENT_DIR # <----------- change to different source if needed\n",
    "CONF_DICT_PATH = os.path.join(EXPERIMENT_DIR, f\"configuration.json\")"
   ]
  },
  {
   "cell_type": "code",
   "execution_count": 3,
   "id": "64449eda",
   "metadata": {},
   "outputs": [
    {
     "data": {
      "text/plain": [
       "{'data': array([[1.423e+01, 1.710e+00, 2.430e+00, ..., 1.040e+00, 3.920e+00,\n",
       "         1.065e+03],\n",
       "        [1.320e+01, 1.780e+00, 2.140e+00, ..., 1.050e+00, 3.400e+00,\n",
       "         1.050e+03],\n",
       "        [1.316e+01, 2.360e+00, 2.670e+00, ..., 1.030e+00, 3.170e+00,\n",
       "         1.185e+03],\n",
       "        ...,\n",
       "        [1.327e+01, 4.280e+00, 2.260e+00, ..., 5.900e-01, 1.560e+00,\n",
       "         8.350e+02],\n",
       "        [1.317e+01, 2.590e+00, 2.370e+00, ..., 6.000e-01, 1.620e+00,\n",
       "         8.400e+02],\n",
       "        [1.413e+01, 4.100e+00, 2.740e+00, ..., 6.100e-01, 1.600e+00,\n",
       "         5.600e+02]]),\n",
       " 'target': array([0, 0, 0, 0, 0, 0, 0, 0, 0, 0, 0, 0, 0, 0, 0, 0, 0, 0, 0, 0, 0, 0,\n",
       "        0, 0, 0, 0, 0, 0, 0, 0, 0, 0, 0, 0, 0, 0, 0, 0, 0, 0, 0, 0, 0, 0,\n",
       "        0, 0, 0, 0, 0, 0, 0, 0, 0, 0, 0, 0, 0, 0, 0, 1, 1, 1, 1, 1, 1, 1,\n",
       "        1, 1, 1, 1, 1, 1, 1, 1, 1, 1, 1, 1, 1, 1, 1, 1, 1, 1, 1, 1, 1, 1,\n",
       "        1, 1, 1, 1, 1, 1, 1, 1, 1, 1, 1, 1, 1, 1, 1, 1, 1, 1, 1, 1, 1, 1,\n",
       "        1, 1, 1, 1, 1, 1, 1, 1, 1, 1, 1, 1, 1, 1, 1, 1, 1, 1, 1, 1, 2, 2,\n",
       "        2, 2, 2, 2, 2, 2, 2, 2, 2, 2, 2, 2, 2, 2, 2, 2, 2, 2, 2, 2, 2, 2,\n",
       "        2, 2, 2, 2, 2, 2, 2, 2, 2, 2, 2, 2, 2, 2, 2, 2, 2, 2, 2, 2, 2, 2,\n",
       "        2, 2]),\n",
       " 'frame': None,\n",
       " 'target_names': array(['class_0', 'class_1', 'class_2'], dtype='<U7'),\n",
       " 'DESCR': '.. _wine_dataset:\\n\\nWine recognition dataset\\n------------------------\\n\\n**Data Set Characteristics:**\\n\\n:Number of Instances: 178\\n:Number of Attributes: 13 numeric, predictive attributes and the class\\n:Attribute Information:\\n    - Alcohol\\n    - Malic acid\\n    - Ash\\n    - Alcalinity of ash\\n    - Magnesium\\n    - Total phenols\\n    - Flavanoids\\n    - Nonflavanoid phenols\\n    - Proanthocyanins\\n    - Color intensity\\n    - Hue\\n    - OD280/OD315 of diluted wines\\n    - Proline\\n    - class:\\n        - class_0\\n        - class_1\\n        - class_2\\n\\n:Summary Statistics:\\n\\n============================= ==== ===== ======= =====\\n                                Min   Max   Mean     SD\\n============================= ==== ===== ======= =====\\nAlcohol:                      11.0  14.8    13.0   0.8\\nMalic Acid:                   0.74  5.80    2.34  1.12\\nAsh:                          1.36  3.23    2.36  0.27\\nAlcalinity of Ash:            10.6  30.0    19.5   3.3\\nMagnesium:                    70.0 162.0    99.7  14.3\\nTotal Phenols:                0.98  3.88    2.29  0.63\\nFlavanoids:                   0.34  5.08    2.03  1.00\\nNonflavanoid Phenols:         0.13  0.66    0.36  0.12\\nProanthocyanins:              0.41  3.58    1.59  0.57\\nColour Intensity:              1.3  13.0     5.1   2.3\\nHue:                          0.48  1.71    0.96  0.23\\nOD280/OD315 of diluted wines: 1.27  4.00    2.61  0.71\\nProline:                       278  1680     746   315\\n============================= ==== ===== ======= =====\\n\\n:Missing Attribute Values: None\\n:Class Distribution: class_0 (59), class_1 (71), class_2 (48)\\n:Creator: R.A. Fisher\\n:Donor: Michael Marshall (MARSHALL%PLU@io.arc.nasa.gov)\\n:Date: July, 1988\\n\\nThis is a copy of UCI ML Wine recognition datasets.\\nhttps://archive.ics.uci.edu/ml/machine-learning-databases/wine/wine.data\\n\\nThe data is the results of a chemical analysis of wines grown in the same\\nregion in Italy by three different cultivators. There are thirteen different\\nmeasurements taken for different constituents found in the three types of\\nwine.\\n\\nOriginal Owners:\\n\\nForina, M. et al, PARVUS -\\nAn Extendible Package for Data Exploration, Classification and Correlation.\\nInstitute of Pharmaceutical and Food Analysis and Technologies,\\nVia Brigata Salerno, 16147 Genoa, Italy.\\n\\nCitation:\\n\\nLichman, M. (2013). UCI Machine Learning Repository\\n[https://archive.ics.uci.edu/ml]. Irvine, CA: University of California,\\nSchool of Information and Computer Science.\\n\\n.. dropdown:: References\\n\\n    (1) S. Aeberhard, D. Coomans and O. de Vel,\\n    Comparison of Classifiers in High Dimensional Settings,\\n    Tech. Rep. no. 92-02, (1992), Dept. of Computer Science and Dept. of\\n    Mathematics and Statistics, James Cook University of North Queensland.\\n    (Also submitted to Technometrics).\\n\\n    The data was used with many others for comparing various\\n    classifiers. The classes are separable, though only RDA\\n    has achieved 100% correct classification.\\n    (RDA : 100%, QDA 99.4%, LDA 98.9%, 1NN 96.1% (z-transformed data))\\n    (All results using the leave-one-out technique)\\n\\n    (2) S. Aeberhard, D. Coomans and O. de Vel,\\n    \"THE CLASSIFICATION PERFORMANCE OF RDA\"\\n    Tech. Rep. no. 92-01, (1992), Dept. of Computer Science and Dept. of\\n    Mathematics and Statistics, James Cook University of North Queensland.\\n    (Also submitted to Journal of Chemometrics).\\n',\n",
       " 'feature_names': ['alcohol',\n",
       "  'malic_acid',\n",
       "  'ash',\n",
       "  'alcalinity_of_ash',\n",
       "  'magnesium',\n",
       "  'total_phenols',\n",
       "  'flavanoids',\n",
       "  'nonflavanoid_phenols',\n",
       "  'proanthocyanins',\n",
       "  'color_intensity',\n",
       "  'hue',\n",
       "  'od280/od315_of_diluted_wines',\n",
       "  'proline']}"
      ]
     },
     "execution_count": 3,
     "metadata": {},
     "output_type": "execute_result"
    }
   ],
   "source": [
    "# Load the dataset\n",
    "wine = load_wine()\n",
    "wine"
   ]
  },
  {
   "cell_type": "code",
   "execution_count": 4,
   "id": "d9a21723",
   "metadata": {},
   "outputs": [],
   "source": [
    "df=pd.DataFrame(wine['data'], columns=wine['feature_names'])\n",
    "df['target']=wine['target']"
   ]
  },
  {
   "cell_type": "code",
   "execution_count": 5,
   "id": "1851b142",
   "metadata": {},
   "outputs": [],
   "source": [
    "train_df, temp_df = train_test_split(df, test_size=0.2, random_state=42)\n",
    "val_df, test_df = train_test_split(temp_df, test_size=0.5, random_state=42)"
   ]
  },
  {
   "cell_type": "code",
   "execution_count": 6,
   "id": "a156cd08",
   "metadata": {},
   "outputs": [
    {
     "name": "stdout",
     "output_type": "stream",
     "text": [
      "<class 'pandas.core.frame.DataFrame'>\n",
      "Index: 142 entries, 158 to 102\n",
      "Data columns (total 14 columns):\n",
      " #   Column                        Non-Null Count  Dtype  \n",
      "---  ------                        --------------  -----  \n",
      " 0   alcohol                       142 non-null    float64\n",
      " 1   malic_acid                    142 non-null    float64\n",
      " 2   ash                           142 non-null    float64\n",
      " 3   alcalinity_of_ash             142 non-null    float64\n",
      " 4   magnesium                     142 non-null    float64\n",
      " 5   total_phenols                 142 non-null    float64\n",
      " 6   flavanoids                    142 non-null    float64\n",
      " 7   nonflavanoid_phenols          142 non-null    float64\n",
      " 8   proanthocyanins               142 non-null    float64\n",
      " 9   color_intensity               142 non-null    float64\n",
      " 10  hue                           142 non-null    float64\n",
      " 11  od280/od315_of_diluted_wines  142 non-null    float64\n",
      " 12  proline                       142 non-null    float64\n",
      " 13  target                        142 non-null    int64  \n",
      "dtypes: float64(13), int64(1)\n",
      "memory usage: 16.6 KB\n"
     ]
    }
   ],
   "source": [
    "train_df.info()"
   ]
  },
  {
   "cell_type": "code",
   "execution_count": 7,
   "id": "90e93c07",
   "metadata": {},
   "outputs": [
    {
     "data": {
      "text/plain": [
       "{'alcohol': 'cont',\n",
       " 'malic_acid': 'cont',\n",
       " 'ash': 'cont',\n",
       " 'alcalinity_of_ash': 'cont',\n",
       " 'magnesium': 'cont',\n",
       " 'total_phenols': 'cont',\n",
       " 'flavanoids': 'cont',\n",
       " 'nonflavanoid_phenols': 'cont',\n",
       " 'proanthocyanins': 'cont',\n",
       " 'color_intensity': 'cont',\n",
       " 'hue': 'cont',\n",
       " 'od280/od315_of_diluted_wines': 'cont',\n",
       " 'proline': 'cont',\n",
       " 'target': 'ord'}"
      ]
     },
     "execution_count": 7,
     "metadata": {},
     "output_type": "execute_result"
    }
   ],
   "source": [
    "data_type={key:value for key, value in zip(train_df.columns, ['cont']*13+['ord'])}\n",
    "data_type"
   ]
  },
  {
   "cell_type": "code",
   "execution_count": 8,
   "id": "18adb654",
   "metadata": {},
   "outputs": [
    {
     "data": {
      "text/plain": [
       "{'date_of_creation': '2025-07-15 06:47:07',\n",
       " 'experiment_name': 'ordinal_example',\n",
       " 'PATHS': {'DATA_PATH': '/home/bule/TramDag/dev_experiment_logs/ordinal_example',\n",
       "  'LOG_DIR': '/home/bule/TramDag/dev_experiment_logs',\n",
       "  'EXPERIMENT_DIR': '/home/bule/TramDag/dev_experiment_logs/ordinal_example'},\n",
       " 'data_type': None,\n",
       " 'adj_matrix': None,\n",
       " 'model_names': None,\n",
       " 'seed': None,\n",
       " 'nodes': None}"
      ]
     },
     "execution_count": 8,
     "metadata": {},
     "output_type": "execute_result"
    }
   ],
   "source": [
    "configuration_dict=new_conf_dict(experiment_name,EXPERIMENT_DIR,DATA_PATH,LOG_DIR)\n",
    "configuration_dict"
   ]
  },
  {
   "cell_type": "code",
   "execution_count": null,
   "id": "a6a166ec",
   "metadata": {},
   "outputs": [
    {
     "name": "stdout",
     "output_type": "stream",
     "text": [
      "*************\n",
      " Model has Complex intercepts and Complex shifts, please add your Model to the modelzoo \n",
      "*************\n"
     ]
    },
    {
     "data": {
      "text/plain": [
       "array([['0', '0', 'LinearShift'],\n",
       "       ['0', '0', 'ComplexInterceptDefaultTabular'],\n",
       "       ['0', '0', '0']], dtype=object)"
      ]
     },
     "execution_count": 35,
     "metadata": {},
     "output_type": "execute_result"
    }
   ],
   "source": [
    "data_type={'x1':'cont','x2':'cont','target':'ord'}  # continous , images , ordinal\n",
    "\n",
    "levels_dict={'target':len(np.unique(df['target']))}  \n",
    "\n",
    "adj_matrix = np.array([\n",
    "    [ \"0\", \"0\", \"ls\"],  \n",
    "    [ \"0\", \"0\", \"ci\"],  \n",
    "    [ \"0\", \"0\", \"0\"],  \n",
    "], object)\n",
    "\n",
    "nn_names_matrix= create_nn_model_names(adj_matrix,data_type)\n",
    "nn_names_matrix"
   ]
  },
  {
   "cell_type": "code",
   "execution_count": 36,
   "id": "aa874102",
   "metadata": {},
   "outputs": [],
   "source": [
    "quantiles = train_df.quantile([0.05, 0.95])\n",
    "min_vals = quantiles.loc[0.05]\n",
    "max_vals = quantiles.loc[0.95]\n"
   ]
  },
  {
   "cell_type": "code",
   "execution_count": 42,
   "id": "c05fc8ba",
   "metadata": {},
   "outputs": [],
   "source": [
    "def create_node_dict_v2(adj_matrix, nn_names_matrix, data_type, min_vals, max_vals,levels_dict=None):\n",
    "    \"\"\"\n",
    "    Creates a configuration dictionary for TRAMADAG based on an adjacency matrix,\n",
    "    a neural network names matrix, and a data type dictionary.\n",
    "    \"\"\"\n",
    "    if not validate_adj_matrix(adj_matrix):\n",
    "        raise ValueError(\"Invalid adjacency matrix. Please check the criteria.\")\n",
    "    \n",
    "    if len(data_type) != adj_matrix.shape[0]:\n",
    "        raise ValueError(\"Data type dictionary should have the same length as the adjacency matrix.\")\n",
    "    \n",
    "    target_nodes = {}\n",
    "    G, edge_labels = create_nx_graph(adj_matrix, node_labels=list(data_type.keys()))\n",
    "    \n",
    "    sources = [node for node in G.nodes if G.in_degree(node) == 0]\n",
    "    sinks = [node for node in G.nodes if G.out_degree(node) == 0]\n",
    "    \n",
    "    for i, node in enumerate(G.nodes):\n",
    "        parents = list(G.predecessors(node))\n",
    "        target_nodes[node] = {}\n",
    "        target_nodes[node]['Modelnr'] = i\n",
    "        target_nodes[node]['data_type'] = data_type[node]\n",
    "        \n",
    "        # write the levels of the ordinal outcome\n",
    "        if data_type[node]=='ord':\n",
    "            if levels_dict is None:\n",
    "                print('provide levels_dict e.g. {\"x3\":3}')\n",
    "            else:\n",
    "                target_nodes[node]['levels'] = levels_dict[node]\n",
    "            \n",
    "    \n",
    "        target_nodes[node]['node_type'] = \"source\" if node in sources else \"sink\" if node in sinks else \"internal\"\n",
    "        target_nodes[node]['parents'] = parents\n",
    "        target_nodes[node]['parents_datatype'] = {parent:data_type[parent] for parent in parents}\n",
    "        target_nodes[node]['transformation_terms_in_h()'] = {parent: edge_labels[(parent, node)] for parent in parents if (parent, node) in edge_labels}\n",
    "        target_nodes[node]['min'] = min_vals.iloc[i].tolist()   \n",
    "        target_nodes[node]['max'] = max_vals.iloc[i].tolist()\n",
    "\n",
    "        \n",
    "        transformation_term_nn_models = {}\n",
    "        for parent in parents:\n",
    "            parent_idx = list(data_type.keys()).index(parent)  \n",
    "            child_idx = list(data_type.keys()).index(node) \n",
    "            \n",
    "            if nn_names_matrix[parent_idx, child_idx] != \"0\":\n",
    "                transformation_term_nn_models[parent] = nn_names_matrix[parent_idx, child_idx]\n",
    "        target_nodes[node]['transformation_term_nn_models_in_h()'] = transformation_term_nn_models\n",
    "    return target_nodes"
   ]
  },
  {
   "cell_type": "code",
   "execution_count": 43,
   "id": "c6ece2f7",
   "metadata": {},
   "outputs": [],
   "source": [
    "target_nodes=create_node_dict_v2(adj_matrix, nn_names_matrix, data_type, min_vals, max_vals,levels_dict)"
   ]
  },
  {
   "cell_type": "code",
   "execution_count": 39,
   "id": "e3408f63",
   "metadata": {},
   "outputs": [],
   "source": [
    "from utils.tram_model_helpers import *\n",
    "from utils.tram_models import *"
   ]
  },
  {
   "cell_type": "code",
   "execution_count": 44,
   "id": "c058adbc",
   "metadata": {},
   "outputs": [],
   "source": [
    "# TODO : Where a SimpleIntercept model is there must be C-1 thetas \n",
    "\n",
    "\n",
    "def get_fully_specified_tram_model_v2(node: str, target_nodes: dict, verbose=True):\n",
    "    # Source nodes get a simple intercept only\n",
    "    if target_nodes[node]['node_type'] == 'source':\n",
    "        # if target node is ordinal we only need c-1 thetas\n",
    "        if target_nodes[node]['data_type']=='ord':\n",
    "            nn_int = SimpleIntercept(n_thetas=target_nodes[node]['levels']-1)\n",
    "        else:    \n",
    "            nn_int = SimpleIntercept()\n",
    "            \n",
    "        model = TramModel(nn_int, None)\n",
    "        if verbose:\n",
    "            print(\"Source → SimpleIntercept only\")\n",
    "        return model\n",
    "\n",
    "    # Otherwise gather terms and model names\n",
    "    _, terms_dict, model_names_dict = ordered_parents(node, target_nodes)\n",
    "    model_dict = merge_transformation_dicts(terms_dict, model_names_dict)\n",
    "\n",
    "    # Split intercepts vs. shifts\n",
    "    intercepts_dict = {\n",
    "        k: v for k, v in model_dict.items()\n",
    "        if \"ci\" in v['h_term'] or \"si\" in v['h_term']\n",
    "    }\n",
    "    shifts_dict = {\n",
    "        k: v for k, v in model_dict.items()\n",
    "        if \"ci\" not in v['h_term'] and \"si\" not in v['h_term']\n",
    "    }\n",
    "\n",
    "    # Build intercept network\n",
    "    intercept_groups = group_by_base(intercepts_dict, prefixes=(\"ci\", \"si\"))\n",
    "    if not intercept_groups:\n",
    "\n",
    "        if target_nodes[node]['data_type']=='ord':\n",
    "            nn_int = SimpleIntercept(n_thetas=int(target_nodes[node]['levels'])-1)\n",
    "        else:    \n",
    "            nn_int = SimpleIntercept()\n",
    "\n",
    "    else:\n",
    "        if len(intercept_groups) > 1:\n",
    "            raise ValueError(\"Multiple intercept models detected; only one is supported.\")\n",
    "        feats = next(iter(intercept_groups.values()))\n",
    "        cls_name = feats[0][1]['class_name']\n",
    "        base = get_base_model_class(cls_name)\n",
    "        \n",
    "        \n",
    "        if target_nodes[node]['data_type']=='ord':\n",
    "            nn_int = globals()[base](n_features=len(feats),n_thetas=int(target_nodes[node]['levels'])-1)\n",
    "        else:    \n",
    "            nn_int = globals()[base](n_features=len(feats))\n",
    "        \n",
    "\n",
    "    # Build shift networks (handles both \"cs\" and \"ls\")\n",
    "    shift_groups = group_by_base(shifts_dict, prefixes=(\"cs\", \"ls\"))\n",
    "    nn_shifts = []\n",
    "    for feats in shift_groups.values():\n",
    "        cls_name = feats[0][1]['class_name']\n",
    "        base = get_base_model_class(cls_name)\n",
    "        nn_shifts.append(globals()[base](n_features=len(feats)))\n",
    "\n",
    "    # Combine into TramModel\n",
    "    tram_model = TramModel(nn_int, nn_shifts)\n",
    "    if verbose:\n",
    "        print(\"Constructed TRAM model:\", tram_model)\n",
    "    return tram_model"
   ]
  },
  {
   "cell_type": "code",
   "execution_count": 45,
   "id": "5bd0e7f6",
   "metadata": {},
   "outputs": [
    {
     "name": "stdout",
     "output_type": "stream",
     "text": [
      "Constructed TRAM model: TramModel(\n",
      "  (nn_int): ComplexInterceptDefaultTabular(\n",
      "    (fc1): Linear(in_features=1, out_features=8, bias=True)\n",
      "    (relu1): ReLU()\n",
      "    (fc2): Linear(in_features=8, out_features=8, bias=True)\n",
      "    (relu2): ReLU()\n",
      "    (fc3): Linear(in_features=8, out_features=2, bias=False)\n",
      "  )\n",
      "  (nn_shift): ModuleList(\n",
      "    (0): LinearShift(\n",
      "      (fc): Linear(in_features=1, out_features=1, bias=False)\n",
      "    )\n",
      "  )\n",
      ")\n"
     ]
    },
    {
     "data": {
      "text/plain": [
       "TramModel(\n",
       "  (nn_int): ComplexInterceptDefaultTabular(\n",
       "    (fc1): Linear(in_features=1, out_features=8, bias=True)\n",
       "    (relu1): ReLU()\n",
       "    (fc2): Linear(in_features=8, out_features=8, bias=True)\n",
       "    (relu2): ReLU()\n",
       "    (fc3): Linear(in_features=8, out_features=2, bias=False)\n",
       "  )\n",
       "  (nn_shift): ModuleList(\n",
       "    (0): LinearShift(\n",
       "      (fc): Linear(in_features=1, out_features=1, bias=False)\n",
       "    )\n",
       "  )\n",
       ")"
      ]
     },
     "execution_count": 45,
     "metadata": {},
     "output_type": "execute_result"
    }
   ],
   "source": [
    "get_fully_specified_tram_model_v2('target', target_nodes, verbose=True)"
   ]
  }
 ],
 "metadata": {
  "kernelspec": {
   "display_name": "tramdag",
   "language": "python",
   "name": "python3"
  },
  "language_info": {
   "codemirror_mode": {
    "name": "ipython",
    "version": 3
   },
   "file_extension": ".py",
   "mimetype": "text/x-python",
   "name": "python",
   "nbconvert_exporter": "python",
   "pygments_lexer": "ipython3",
   "version": "3.9.21"
  }
 },
 "nbformat": 4,
 "nbformat_minor": 5
}
