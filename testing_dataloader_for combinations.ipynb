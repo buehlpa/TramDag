{
 "cells": [
  {
   "cell_type": "code",
   "execution_count": 1,
   "id": "233ae7ff",
   "metadata": {},
   "outputs": [
    {
     "name": "stdout",
     "output_type": "stream",
     "text": [
      "Train with GPU support.\n"
     ]
    }
   ],
   "source": [
    "import os\n",
    "os.environ['CUDA_LAUNCH_BLOCKING'] = '1'\n",
    "\n",
    "from sklearn.model_selection import train_test_split\n",
    "from sklearn.preprocessing import StandardScaler\n",
    "from scipy.stats import logistic\n",
    "from scipy.special import logit\n",
    "\n",
    "import torch\n",
    "import torch.nn.functional as F\n",
    "from torchvision import transforms\n",
    "from torch.utils.data import Dataset\n",
    "from torch.cuda.amp import autocast, GradScaler\n",
    "\n",
    "if torch.cuda.is_available():\n",
    "    device = torch.device('cuda')\n",
    "    print(\"Train with GPU support.\")\n",
    "else:\n",
    "    device = torch.device('cpu')\n",
    "    print(\"No GPU found, train with CPU support.\")\n",
    "\n",
    "import numpy as np\n",
    "import json\n",
    "import pandas as pd\n",
    "import matplotlib.pyplot as plt\n",
    "\n",
    "\n",
    "# own utils\n",
    "from utils.graph import *\n",
    "from utils.tram_models import *\n",
    "from utils.tram_model_helpers import *\n",
    "from utils.tram_data import *\n",
    "from utils.continous import *\n",
    "from utils.sampling_tram_data import *"
   ]
  },
  {
   "cell_type": "code",
   "execution_count": 2,
   "id": "0b91941c",
   "metadata": {},
   "outputs": [],
   "source": [
    "def dgp(n_obs=10000, n_vars=5, seed=None):\n",
    "    \"\"\"\n",
    "    Generate a synthetic dataset with n_vars variables and n_obs observations,\n",
    "    where each variable contains a constant value: x2 = 2, x3 = 3, ..., x{n_vars+1} = n_vars+1.\n",
    "\n",
    "    Args:\n",
    "        n_obs (int): Number of observations (rows).\n",
    "        n_vars (int): Number of variables (columns).\n",
    "        seed (int or None): Random seed (not used here since data is deterministic).\n",
    "\n",
    "    Returns:\n",
    "        pd.DataFrame: Generated dataset.\n",
    "    \"\"\"\n",
    "    values = np.arange(2, 2 + n_vars)  # [2, 3, ..., n_vars + 1]\n",
    "    data = np.tile(values, (n_obs, 1))  # Repeat each value across n_obs rows\n",
    "    columns = [f\"x{i+2}\" for i in range(n_vars)]\n",
    "    df = pd.DataFrame(data, columns=columns)\n",
    "    return df"
   ]
  },
  {
   "cell_type": "code",
   "execution_count": 3,
   "id": "3146dfd5",
   "metadata": {},
   "outputs": [
    {
     "name": "stdout",
     "output_type": "stream",
     "text": [
      "   x2  x3  x4  x5  x6  x7  x8  x9  x10  x11\n",
      "0   2   3   4   5   6   7   8   9   10   11\n",
      "1   2   3   4   5   6   7   8   9   10   11\n",
      "2   2   3   4   5   6   7   8   9   10   11\n",
      "3   2   3   4   5   6   7   8   9   10   11\n",
      "4   2   3   4   5   6   7   8   9   10   11\n"
     ]
    }
   ],
   "source": [
    "df = dgp(n_obs=100, n_vars=10, seed=42)\n",
    "# Get min_vals and max_vals as torch tensors\n",
    "quantiles = df.quantile([0.025, 0.975])\n",
    "min_vals = quantiles.loc[0.025].values.astype(np.float32)\n",
    "max_vals = quantiles.loc[0.975].values.astype(np.float32)\n",
    "\n",
    "print(df.head())"
   ]
  },
  {
   "cell_type": "code",
   "execution_count": 4,
   "id": "c9daa2dd",
   "metadata": {},
   "outputs": [
    {
     "name": "stdout",
     "output_type": "stream",
     "text": [
      "Train size: 80, Validation size: 10, Test size: 10\n"
     ]
    }
   ],
   "source": [
    "# train\n",
    "train_df, temp_df = train_test_split(df, test_size=0.2, random_state=42)\n",
    "# Validation and test\n",
    "val_df, test_df = train_test_split(temp_df, test_size=0.5, random_state=42)\n",
    "\n",
    "print(f\"Train size: {len(train_df)}, Validation size: {len(val_df)}, Test size: {len(test_df)}\")"
   ]
  },
  {
   "cell_type": "markdown",
   "id": "2877bde1",
   "metadata": {},
   "source": [
    "## ✅ CI / LS / CS Combination Test Checklist (≥3 Variables)\n",
    "\n",
    "| Combination         | Tested | Works? | Comments                           |\n",
    "|---------------------|--------|--------|------------------------------------|\n",
    "| CI, LS, LS          | ✅    | ✅    |                                    |\n",
    "| CI, LS, CS          | ✅    | ✅    |                                    |\n",
    "| CI, CS, CS          | ✅    | ✅    |                                    |\n",
    "| LS, LS, LS          | ✅    | ✅    |                                    |\n",
    "| LS, LS, CS          | ✅    |  ✅    |                                    |\n",
    "| LS, CS, CS          | ✅    | ✅    |                                    |\n",
    "| CS, CS, CS          | [ ]    | [ ]    |                                    |\n",
    "\n",
    "<!-- CI-CI-* should be tested last -->\n",
    "## ⚠️ CI-CI-* Combinations (Not Currently and should be eg CI(x2 x3))\n",
    "\n",
    "| Combination         | Tested | Works? | Comments                           |\n",
    "|---------------------|--------|--------|------------------------------------|\n",
    "| CI, CI, LS          | [ ]    | [ ]    |                                    |\n",
    "| CI, CI, CS          | [ ]    | [ ]    |                                    |\n",
    "| CI, CI, CI          | [ ]    | [ ]    |                                    |\n",
    "\n",
    "\n",
    "the problem is that i need to specify a simple intercept but this is actually not needed, for source node sit works but it should aslo have a simple intecepts if there are only lS and cs in the model\n",
    "\n",
    "there cannot be and edge with SI!"
   ]
  },
  {
   "cell_type": "code",
   "execution_count": 5,
   "id": "bed534c2",
   "metadata": {},
   "outputs": [
    {
     "data": {
      "image/png": "[encoded data removed]",
      "text/plain": [
       "<Figure size 600x400 with 1 Axes>"
      ]
     },
     "metadata": {},
     "output_type": "display_data"
    }
   ],
   "source": [
    "data_type = {'x2': 'cont','x3': 'cont','x4': 'cont','x5': 'cont'}\n",
    "adj_matrix = np.array([\n",
    "    [\"0\",  \"0\",  \"0\",  \"cs\"],   # x1 → x2 (ci), x1 → x3 (ls)\n",
    "    [\"0\",  \"0\",  \"0\",  \"cs\"],   # x2 → x3 (cs)\n",
    "    [\"0\",  \"0\",  \"0\",  \"cs\"],  # x3 → x4 (ls)\n",
    "    [\"0\",  \"0\",  \"0\",   \"0\"],   # x4\n",
    "], dtype=object)\n",
    "\n",
    "plot_seed = 42\n",
    "plot_dag(adj_matrix, data_type, seed=plot_seed)"
   ]
  },
  {
   "cell_type": "code",
   "execution_count": 6,
   "id": "9067dd7e",
   "metadata": {},
   "outputs": [
    {
     "name": "stdout",
     "output_type": "stream",
     "text": [
      "************* \n",
      " Model has Complex intercepts and Coomplex shifts , please add your Model to the modelzoo \n",
      "************\n"
     ]
    },
    {
     "data": {
      "image/png": "[encoded data removed]",
      "text/plain": [
       "<Figure size 1000x800 with 1 Axes>"
      ]
     },
     "metadata": {},
     "output_type": "display_data"
    }
   ],
   "source": [
    "# check if there are Ci or Compelx shifts in the models. If yes define the modelnames\n",
    "nn_names_matrix= create_nn_model_names(adj_matrix,data_type)\n",
    "plot_nn_names_matrix(nn_names_matrix,data_type)"
   ]
  },
  {
   "cell_type": "code",
   "execution_count": 7,
   "id": "d956e43a",
   "metadata": {},
   "outputs": [
    {
     "data": {
      "text/plain": [
       "{'x2': {'Modelnr': 0,\n",
       "  'data_type': 'cont',\n",
       "  'node_type': 'source',\n",
       "  'parents': [],\n",
       "  'parents_datatype': {},\n",
       "  'transformation_terms_in_h()': {},\n",
       "  'transformation_term_nn_models_in_h()': {},\n",
       "  'min': 2.0,\n",
       "  'max': 2.0},\n",
       " 'x3': {'Modelnr': 1,\n",
       "  'data_type': 'cont',\n",
       "  'node_type': 'source',\n",
       "  'parents': [],\n",
       "  'parents_datatype': {},\n",
       "  'transformation_terms_in_h()': {},\n",
       "  'transformation_term_nn_models_in_h()': {},\n",
       "  'min': 3.0,\n",
       "  'max': 3.0},\n",
       " 'x4': {'Modelnr': 2,\n",
       "  'data_type': 'cont',\n",
       "  'node_type': 'source',\n",
       "  'parents': [],\n",
       "  'parents_datatype': {},\n",
       "  'transformation_terms_in_h()': {},\n",
       "  'transformation_term_nn_models_in_h()': {},\n",
       "  'min': 4.0,\n",
       "  'max': 4.0},\n",
       " 'x5': {'Modelnr': 3,\n",
       "  'data_type': 'cont',\n",
       "  'node_type': 'sink',\n",
       "  'parents': ['x2', 'x3', 'x4'],\n",
       "  'parents_datatype': {'x2': 'cont', 'x3': 'cont', 'x4': 'cont'},\n",
       "  'transformation_terms_in_h()': {'x2': 'cs', 'x3': 'cs', 'x4': 'cs'},\n",
       "  'transformation_term_nn_models_in_h()': {'x2': 'ComplexShiftDefaultTabular',\n",
       "   'x3': 'ComplexShiftDefaultTabular',\n",
       "   'x4': 'ComplexShiftDefaultTabular'},\n",
       "  'min': 5.0,\n",
       "  'max': 5.0}}"
      ]
     },
     "execution_count": 7,
     "metadata": {},
     "output_type": "execute_result"
    }
   ],
   "source": [
    "conf_dict=get_configuration_dict(adj_matrix,nn_names_matrix, data_type)\n",
    "# write min max to conf dict\n",
    "for i,node in enumerate(data_type.keys()):\n",
    "    conf_dict[node]['min']=min_vals[i].tolist()\n",
    "    conf_dict[node]['max']=max_vals[i].tolist()\n",
    "\n",
    "conf_dict"
   ]
  },
  {
   "cell_type": "code",
   "execution_count": 8,
   "id": "9c7e3914",
   "metadata": {},
   "outputs": [],
   "source": [
    "DEV_TRAINING=True\n",
    "train_list=['x2','x3','x4','x5']#['x1']#['x1','x2','x3']#,#,['x1','x2','x3'] # <-  set the nodes which have to be trained , useful if further training is required else lsit all vars\n",
    "\n",
    "batch_size = 4112\n",
    "epochs = 1   # <- if you want a higher numbe rof epochs, set the number higher and it loads the old model and starts from there\n",
    "use_scheduler = True"
   ]
  },
  {
   "cell_type": "code",
   "execution_count": 9,
   "id": "0c0ff138",
   "metadata": {},
   "outputs": [
    {
     "name": "stdout",
     "output_type": "stream",
     "text": [
      "\n",
      "----*----------*-------------*--------------- Node: x2 ------------*-----------------*-------------------*--\n",
      ">>>>>>>>>>>>  source node --> only  modelled only  by si\n",
      "TramModel(\n",
      "  (nn_int): SimpleIntercept(\n",
      "    (fc): Linear(in_features=1, out_features=20, bias=False)\n",
      "  )\n",
      ")\n"
     ]
    },
    {
     "name": "stdout",
     "output_type": "stream",
     "text": [
      ">>>>>>>>>>>>  source node --> x in dataloader contains just 1s \n",
      "[x2] Training loss: nan\n",
      "[x2] Validation loss: nan\n",
      "\n",
      "----*----------*-------------*--------------- Node: x3 ------------*-----------------*-------------------*--\n",
      ">>>>>>>>>>>>  source node --> only  modelled only  by si\n",
      "TramModel(\n",
      "  (nn_int): SimpleIntercept(\n",
      "    (fc): Linear(in_features=1, out_features=20, bias=False)\n",
      "  )\n",
      ")\n",
      ">>>>>>>>>>>>  source node --> x in dataloader contains just 1s \n",
      "[x3] Training loss: nan\n",
      "[x3] Validation loss: nan\n",
      "\n",
      "----*----------*-------------*--------------- Node: x4 ------------*-----------------*-------------------*--\n",
      ">>>>>>>>>>>>  source node --> only  modelled only  by si\n",
      "TramModel(\n",
      "  (nn_int): SimpleIntercept(\n",
      "    (fc): Linear(in_features=1, out_features=20, bias=False)\n",
      "  )\n",
      ")\n",
      ">>>>>>>>>>>>  source node --> x in dataloader contains just 1s \n",
      "[x4] Training loss: nan\n",
      "[x4] Validation loss: nan\n",
      "\n",
      "----*----------*-------------*--------------- Node: x5 ------------*-----------------*-------------------*--\n",
      ">>>>>>>>>>>> No ci detected --> intercept defaults to si\n",
      ">>> TRAM MODEL:\n",
      " TramModel(\n",
      "  (nn_int): SimpleIntercept(\n",
      "    (fc): Linear(in_features=1, out_features=20, bias=False)\n",
      "  )\n",
      "  (nn_shift): ModuleList(\n",
      "    (0-2): 3 x ComplexShiftDefaultTabular(\n",
      "      (fc1): Linear(in_features=1, out_features=32, bias=True)\n",
      "      (relu1): ReLU()\n",
      "      (fc2): Linear(in_features=32, out_features=32, bias=True)\n",
      "      (relu2): ReLU()\n",
      "      (fc3): Linear(in_features=32, out_features=1, bias=False)\n",
      "    )\n",
      "  )\n",
      ")\n",
      "[x5] Training loss: nan\n",
      "[x5] Validation loss: nan\n"
     ]
    }
   ],
   "source": [
    "# For each NODE \n",
    "for node in conf_dict:\n",
    "\n",
    "    print(f'\\n----*----------*-------------*--------------- Node: {node} ------------*-----------------*-------------------*--')\n",
    "\n",
    "    ########################## 0. Skip nodes ###############################\n",
    "    if node not in train_list:\n",
    "        print(f\"Skipping node {node} as it's not in the training list.\")\n",
    "        continue\n",
    "    if (conf_dict[node]['node_type'] == 'source') and (conf_dict[node]['node_type'] == 'other'):\n",
    "        print(f\"Node type : other , is not supported yet\")\n",
    "        continue\n",
    "\n",
    "    ########################## 1. Create Model ##############################\n",
    "    tram_model = get_fully_specified_tram_model(node, conf_dict, verbose=True).to(device)\n",
    "\n",
    "    ########################## 2. Create Dataloaders ########################\n",
    "    train_loader, val_loader = get_dataloader(node, conf_dict, train_df, val_df, batch_size=batch_size, verbose=True)\n",
    "\n",
    "    ########################## 3. Min/Max Tensor ############################\n",
    "    min_vals = torch.tensor(conf_dict[node]['min'], dtype=torch.float32).to(device)\n",
    "    max_vals = torch.tensor(conf_dict[node]['max'], dtype=torch.float32).to(device)\n",
    "    min_max = torch.stack([min_vals, max_vals], dim=0)\n",
    "\n",
    "    ########################## 4. Optimizer & Scheduler #####################\n",
    "    optimizer = torch.optim.AdamW(tram_model.parameters(), lr=0.001, eps=1e-8, weight_decay=1e-2)\n",
    "\n",
    "    if use_scheduler:\n",
    "        scheduler = torch.optim.lr_scheduler.CosineAnnealingWarmRestarts(optimizer, T_0=10, T_mult=2)\n",
    "    else:\n",
    "        scheduler = None\n",
    "\n",
    "    ########################## 5. Train for One Epoch #######################\n",
    "    tram_model.train()\n",
    "    total_train_loss = 0.0\n",
    "    for x, y in train_loader:\n",
    "        optimizer.zero_grad()\n",
    "        y = y.to(device)\n",
    "        int_input, shift_list = preprocess_inputs(x, device=device)\n",
    "        y_pred = tram_model(int_input=int_input, shift_input=shift_list)\n",
    "        loss = contram_nll(y_pred, y, min_max=min_max)\n",
    "        loss.backward()\n",
    "        optimizer.step()\n",
    "        if use_scheduler:\n",
    "            scheduler.step()\n",
    "        total_train_loss += loss.item()\n",
    "    avg_train_loss = total_train_loss / len(train_loader)\n",
    "    print(f\"[{node}] Training loss: {avg_train_loss:.4f}\")\n",
    "\n",
    "    ########################## 6. Validate for One Epoch ####################\n",
    "    tram_model.eval()\n",
    "    total_val_loss = 0.0\n",
    "    with torch.no_grad():\n",
    "        for x, y in val_loader:\n",
    "            y = y.to(device)\n",
    "            int_input, shift_list = preprocess_inputs(x, device=device)\n",
    "            y_pred = tram_model(int_input=int_input, shift_input=shift_list)\n",
    "            loss = contram_nll(y_pred, y, min_max=min_max)\n",
    "            total_val_loss += loss.item()\n",
    "    avg_val_loss = total_val_loss / len(val_loader)\n",
    "    print(f\"[{node}] Validation loss: {avg_val_loss:.4f}\")\n"
   ]
  },
  {
   "cell_type": "code",
   "execution_count": 10,
   "id": "1dee6f83",
   "metadata": {},
   "outputs": [
    {
     "data": {
      "text/plain": [
       "TramModel(\n",
       "  (nn_int): SimpleIntercept(\n",
       "    (fc): Linear(in_features=1, out_features=20, bias=False)\n",
       "  )\n",
       "  (nn_shift): ModuleList(\n",
       "    (0-2): 3 x ComplexShiftDefaultTabular(\n",
       "      (fc1): Linear(in_features=1, out_features=32, bias=True)\n",
       "      (relu1): ReLU()\n",
       "      (fc2): Linear(in_features=32, out_features=32, bias=True)\n",
       "      (relu2): ReLU()\n",
       "      (fc3): Linear(in_features=32, out_features=1, bias=False)\n",
       "    )\n",
       "  )\n",
       ")"
      ]
     },
     "execution_count": 10,
     "metadata": {},
     "output_type": "execute_result"
    }
   ],
   "source": [
    "tram_model"
   ]
  },
  {
   "cell_type": "code",
   "execution_count": 14,
   "id": "b1c87482",
   "metadata": {},
   "outputs": [
    {
     "data": {
      "text/plain": [
       "[[tensor([1., 1., 1., 1., 1., 1., 1., 1., 1., 1., 1., 1., 1., 1., 1., 1., 1., 1.,\n",
       "          1., 1., 1., 1., 1., 1., 1., 1., 1., 1., 1., 1., 1., 1., 1., 1., 1., 1.,\n",
       "          1., 1., 1., 1., 1., 1., 1., 1., 1., 1., 1., 1., 1., 1., 1., 1., 1., 1.,\n",
       "          1., 1., 1., 1., 1., 1., 1., 1., 1., 1., 1., 1., 1., 1., 1., 1., 1., 1.,\n",
       "          1., 1., 1., 1., 1., 1., 1., 1.]),\n",
       "  tensor([2., 2., 2., 2., 2., 2., 2., 2., 2., 2., 2., 2., 2., 2., 2., 2., 2., 2.,\n",
       "          2., 2., 2., 2., 2., 2., 2., 2., 2., 2., 2., 2., 2., 2., 2., 2., 2., 2.,\n",
       "          2., 2., 2., 2., 2., 2., 2., 2., 2., 2., 2., 2., 2., 2., 2., 2., 2., 2.,\n",
       "          2., 2., 2., 2., 2., 2., 2., 2., 2., 2., 2., 2., 2., 2., 2., 2., 2., 2.,\n",
       "          2., 2., 2., 2., 2., 2., 2., 2.]),\n",
       "  tensor([3., 3., 3., 3., 3., 3., 3., 3., 3., 3., 3., 3., 3., 3., 3., 3., 3., 3.,\n",
       "          3., 3., 3., 3., 3., 3., 3., 3., 3., 3., 3., 3., 3., 3., 3., 3., 3., 3.,\n",
       "          3., 3., 3., 3., 3., 3., 3., 3., 3., 3., 3., 3., 3., 3., 3., 3., 3., 3.,\n",
       "          3., 3., 3., 3., 3., 3., 3., 3., 3., 3., 3., 3., 3., 3., 3., 3., 3., 3.,\n",
       "          3., 3., 3., 3., 3., 3., 3., 3.]),\n",
       "  tensor([4., 4., 4., 4., 4., 4., 4., 4., 4., 4., 4., 4., 4., 4., 4., 4., 4., 4.,\n",
       "          4., 4., 4., 4., 4., 4., 4., 4., 4., 4., 4., 4., 4., 4., 4., 4., 4., 4.,\n",
       "          4., 4., 4., 4., 4., 4., 4., 4., 4., 4., 4., 4., 4., 4., 4., 4., 4., 4.,\n",
       "          4., 4., 4., 4., 4., 4., 4., 4., 4., 4., 4., 4., 4., 4., 4., 4., 4., 4.,\n",
       "          4., 4., 4., 4., 4., 4., 4., 4.])],\n",
       " tensor([5., 5., 5., 5., 5., 5., 5., 5., 5., 5., 5., 5., 5., 5., 5., 5., 5., 5.,\n",
       "         5., 5., 5., 5., 5., 5., 5., 5., 5., 5., 5., 5., 5., 5., 5., 5., 5., 5.,\n",
       "         5., 5., 5., 5., 5., 5., 5., 5., 5., 5., 5., 5., 5., 5., 5., 5., 5., 5.,\n",
       "         5., 5., 5., 5., 5., 5., 5., 5., 5., 5., 5., 5., 5., 5., 5., 5., 5., 5.,\n",
       "         5., 5., 5., 5., 5., 5., 5., 5.])]"
      ]
     },
     "execution_count": 14,
     "metadata": {},
     "output_type": "execute_result"
    }
   ],
   "source": [
    "next(iter(train_loader))"
   ]
  },
  {
   "cell_type": "code",
   "execution_count": 12,
   "id": "8798d16d",
   "metadata": {},
   "outputs": [
    {
     "data": {
      "text/plain": [
       "{'x2': {'Modelnr': 0,\n",
       "  'data_type': 'cont',\n",
       "  'node_type': 'source',\n",
       "  'parents': [],\n",
       "  'parents_datatype': {},\n",
       "  'transformation_terms_in_h()': {},\n",
       "  'transformation_term_nn_models_in_h()': {},\n",
       "  'min': 2.0,\n",
       "  'max': 2.0},\n",
       " 'x3': {'Modelnr': 1,\n",
       "  'data_type': 'cont',\n",
       "  'node_type': 'source',\n",
       "  'parents': [],\n",
       "  'parents_datatype': {},\n",
       "  'transformation_terms_in_h()': {},\n",
       "  'transformation_term_nn_models_in_h()': {},\n",
       "  'min': 3.0,\n",
       "  'max': 3.0},\n",
       " 'x4': {'Modelnr': 2,\n",
       "  'data_type': 'cont',\n",
       "  'node_type': 'source',\n",
       "  'parents': [],\n",
       "  'parents_datatype': {},\n",
       "  'transformation_terms_in_h()': {},\n",
       "  'transformation_term_nn_models_in_h()': {},\n",
       "  'min': 4.0,\n",
       "  'max': 4.0},\n",
       " 'x5': {'Modelnr': 3,\n",
       "  'data_type': 'cont',\n",
       "  'node_type': 'sink',\n",
       "  'parents': ['x2', 'x3', 'x4'],\n",
       "  'parents_datatype': {'x2': 'cont', 'x3': 'cont', 'x4': 'cont'},\n",
       "  'transformation_terms_in_h()': {'x2': 'cs', 'x3': 'cs', 'x4': 'cs'},\n",
       "  'transformation_term_nn_models_in_h()': {'x2': 'ComplexShiftDefaultTabular',\n",
       "   'x3': 'ComplexShiftDefaultTabular',\n",
       "   'x4': 'ComplexShiftDefaultTabular'},\n",
       "  'min': 5.0,\n",
       "  'max': 5.0}}"
      ]
     },
     "execution_count": 12,
     "metadata": {},
     "output_type": "execute_result"
    }
   ],
   "source": [
    "conf_dict"
   ]
  },
  {
   "cell_type": "code",
   "execution_count": null,
   "id": "f16b82a5",
   "metadata": {},
   "outputs": [],
   "source": []
  }
 ],
 "metadata": {
  "kernelspec": {
   "display_name": "tramdag",
   "language": "python",
   "name": "python3"
  },
  "language_info": {
   "codemirror_mode": {
    "name": "ipython",
    "version": 3
   },
   "file_extension": ".py",
   "mimetype": "text/x-python",
   "name": "python",
   "nbconvert_exporter": "python",
   "pygments_lexer": "ipython3",
   "version": "3.9.21"
  }
 },
 "nbformat": 4,
 "nbformat_minor": 5
}
