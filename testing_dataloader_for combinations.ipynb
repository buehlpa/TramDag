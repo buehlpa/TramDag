{
 "cells": [
  {
   "cell_type": "code",
   "execution_count": 1,
   "id": "233ae7ff",
   "metadata": {},
   "outputs": [
    {
     "name": "stdout",
     "output_type": "stream",
     "text": [
      "Train with GPU support.\n"
     ]
    }
   ],
   "source": [
    "import os\n",
    "os.environ['CUDA_LAUNCH_BLOCKING'] = '1'\n",
    "\n",
    "from sklearn.model_selection import train_test_split\n",
    "from sklearn.preprocessing import StandardScaler\n",
    "from scipy.stats import logistic\n",
    "from scipy.special import logit\n",
    "\n",
    "import torch\n",
    "import torch.nn.functional as F\n",
    "from torchvision import transforms\n",
    "from torch.utils.data import Dataset\n",
    "from torch.cuda.amp import autocast, GradScaler\n",
    "\n",
    "if torch.cuda.is_available():\n",
    "    device = torch.device('cuda')\n",
    "    print(\"Train with GPU support.\")\n",
    "else:\n",
    "    device = torch.device('cpu')\n",
    "    print(\"No GPU found, train with CPU support.\")\n",
    "\n",
    "import numpy as np\n",
    "import json\n",
    "import pandas as pd\n",
    "import matplotlib.pyplot as plt\n",
    "\n",
    "\n",
    "# own utils\n",
    "from utils.graph import *\n",
    "from utils.tram_models import *\n",
    "from utils.tram_model_helpers import *\n",
    "from utils.tram_data import *\n",
    "from utils.continous import *\n",
    "from utils.sampling_tram_data import *"
   ]
  },
  {
   "cell_type": "code",
   "execution_count": 2,
   "id": "0b91941c",
   "metadata": {},
   "outputs": [],
   "source": [
    "def dgp(n_obs=10000, n_vars=5, seed=None):\n",
    "    \"\"\"\n",
    "    Generate a synthetic dataset with n_vars variables and n_obs observations.\n",
    "\n",
    "    Args:\n",
    "        n_obs (int): Number of observations (rows).\n",
    "        n_vars (int): Number of variables (columns).\n",
    "        seed (int or None): Random seed for reproducibility.\n",
    "\n",
    "    Returns:\n",
    "        pd.DataFrame: Generated dataset.\n",
    "    \"\"\"\n",
    "    if seed is not None:\n",
    "        np.random.seed(seed)\n",
    "\n",
    "    data = np.random.randn(n_obs, n_vars)  # Standard normal distribution\n",
    "    columns = [f\"x{i+1}\" for i in range(n_vars)]\n",
    "    df = pd.DataFrame(data, columns=columns)\n",
    "    return df"
   ]
  },
  {
   "cell_type": "code",
   "execution_count": 3,
   "id": "3146dfd5",
   "metadata": {},
   "outputs": [
    {
     "name": "stdout",
     "output_type": "stream",
     "text": [
      "         x1        x2        x3        x4        x5        x6        x7  \\\n",
      "0  0.496714 -0.138264  0.647689  1.523030 -0.234153 -0.234137  1.579213   \n",
      "1 -0.463418 -0.465730  0.241962 -1.913280 -1.724918 -0.562288 -1.012831   \n",
      "2  1.465649 -0.225776  0.067528 -1.424748 -0.544383  0.110923 -1.150994   \n",
      "3 -0.601707  1.852278 -0.013497 -1.057711  0.822545 -1.220844  0.208864   \n",
      "4  0.738467  0.171368 -0.115648 -0.301104 -1.478522 -0.719844 -0.460639   \n",
      "\n",
      "         x8        x9       x10  \n",
      "0  0.767435 -0.469474  0.542560  \n",
      "1  0.314247 -0.908024 -1.412304  \n",
      "2  0.375698 -0.600639 -0.291694  \n",
      "3 -1.959670 -1.328186  0.196861  \n",
      "4  1.057122  0.343618 -1.763040  \n"
     ]
    }
   ],
   "source": [
    "df = dgp(n_obs=100, n_vars=10, seed=42)\n",
    "# Get min_vals and max_vals as torch tensors\n",
    "quantiles = df.quantile([0.025, 0.975])\n",
    "min_vals = quantiles.loc[0.025].values.astype(np.float32)\n",
    "max_vals = quantiles.loc[0.975].values.astype(np.float32)\n",
    "\n",
    "print(df.head())"
   ]
  },
  {
   "cell_type": "code",
   "execution_count": 4,
   "id": "c9daa2dd",
   "metadata": {},
   "outputs": [
    {
     "name": "stdout",
     "output_type": "stream",
     "text": [
      "Train size: 80, Validation size: 10, Test size: 10\n"
     ]
    }
   ],
   "source": [
    "# train\n",
    "train_df, temp_df = train_test_split(df, test_size=0.2, random_state=42)\n",
    "# Validation and test\n",
    "val_df, test_df = train_test_split(temp_df, test_size=0.5, random_state=42)\n",
    "\n",
    "print(f\"Train size: {len(train_df)}, Validation size: {len(val_df)}, Test size: {len(test_df)}\")"
   ]
  },
  {
   "cell_type": "markdown",
   "id": "2877bde1",
   "metadata": {},
   "source": [
    "## ✅ CI / LS / CS Combination Test Checklist (≥3 Variables)\n",
    "\n",
    "| Combination         | Tested | Works? | Comments                           |\n",
    "|---------------------|--------|--------|------------------------------------|\n",
    "| CI, LS, LS          | ✅    | ✅    |                                    |\n",
    "| CI, LS, CS          | ✅    | ✅    |                                    |\n",
    "| CI, CS, CS          | ✅    | ✅    |                                    |\n",
    "| LS, LS, LS          | [ ]    | [ ]    |                                    |\n",
    "| LS, LS, CS          | ✅    |  X    |                                    |\n",
    "| LS, CS, CS          | [ ]    | [ ]    |                                    |\n",
    "| CS, CS, CS          | [ ]    | [ ]    |                                    |\n",
    "\n",
    "<!-- CI-CI-* should be tested last -->\n",
    "## ⚠️ CI-CI-* Combinations (Not Currently Supported)\n",
    "\n",
    "| Combination         | Tested | Works? | Comments                           |\n",
    "|---------------------|--------|--------|------------------------------------|\n",
    "| CI, CI, LS          | [ ]    | [ ]    |                                    |\n",
    "| CI, CI, CS          | [ ]    | [ ]    |                                    |\n",
    "| CI, CI, CI          | [ ]    | [ ]    |                                    |\n",
    "\n",
    "\n",
    "the problem is that i need to specify a simple intercept but this is actually not needed, for source node sit works but it should aslo have a simple intecepts if there are only lS and cs in the model"
   ]
  },
  {
   "cell_type": "code",
   "execution_count": 5,
   "id": "bed534c2",
   "metadata": {},
   "outputs": [
    {
     "data": {
      "image/png": "[encoded data removed]",
      "text/plain": [
       "<Figure size 600x400 with 1 Axes>"
      ]
     },
     "metadata": {},
     "output_type": "display_data"
    }
   ],
   "source": [
    "data_type = {'x1': 'cont','x2': 'cont','x3': 'cont','x4': 'cont'}\n",
    "adj_matrix = np.array([\n",
    "    [\"0\",  \"0\",  \"0\",  \"si\"],   # x1 → x2 (ci), x1 → x3 (ls)\n",
    "    [\"0\",  \"0\",  \"0\",  \"ls\"],   # x2 → x3 (cs)\n",
    "    [\"0\",  \"0\",  \"0\",  \"ls\"],  # x3 → x4 (ls)\n",
    "    [\"0\",  \"0\",  \"0\",   \"0\"],   # x4\n",
    "], dtype=object)\n",
    "\n",
    "plot_seed = 42\n",
    "plot_dag(adj_matrix, data_type, seed=plot_seed)"
   ]
  },
  {
   "cell_type": "code",
   "execution_count": 6,
   "id": "9067dd7e",
   "metadata": {},
   "outputs": [
    {
     "data": {
      "image/png": "[encoded data removed]",
      "text/plain": [
       "<Figure size 1000x800 with 1 Axes>"
      ]
     },
     "metadata": {},
     "output_type": "display_data"
    }
   ],
   "source": [
    "# check if there are Ci or Compelx shifts in the models. If yes define the modelnames\n",
    "nn_names_matrix= create_nn_model_names(adj_matrix,data_type)\n",
    "plot_nn_names_matrix(nn_names_matrix,data_type)"
   ]
  },
  {
   "cell_type": "code",
   "execution_count": 7,
   "id": "d956e43a",
   "metadata": {},
   "outputs": [
    {
     "data": {
      "text/plain": [
       "{'x1': {'Modelnr': 0,\n",
       "  'data_type': 'cont',\n",
       "  'node_type': 'source',\n",
       "  'parents': [],\n",
       "  'parents_datatype': {},\n",
       "  'transformation_terms_in_h()': {},\n",
       "  'transformation_term_nn_models_in_h()': {},\n",
       "  'min': -1.681511402130127,\n",
       "  'max': 2.015137195587158},\n",
       " 'x2': {'Modelnr': 1,\n",
       "  'data_type': 'cont',\n",
       "  'node_type': 'source',\n",
       "  'parents': [],\n",
       "  'parents_datatype': {},\n",
       "  'transformation_terms_in_h()': {},\n",
       "  'transformation_term_nn_models_in_h()': {},\n",
       "  'min': -2.040546178817749,\n",
       "  'max': 1.8674396276474},\n",
       " 'x3': {'Modelnr': 2,\n",
       "  'data_type': 'cont',\n",
       "  'node_type': 'source',\n",
       "  'parents': [],\n",
       "  'parents_datatype': {},\n",
       "  'transformation_terms_in_h()': {},\n",
       "  'transformation_term_nn_models_in_h()': {},\n",
       "  'min': -1.848961591720581,\n",
       "  'max': 2.0080935955047607},\n",
       " 'x4': {'Modelnr': 3,\n",
       "  'data_type': 'cont',\n",
       "  'node_type': 'sink',\n",
       "  'parents': ['x1', 'x2', 'x3'],\n",
       "  'parents_datatype': {'x1': 'cont', 'x2': 'cont', 'x3': 'cont'},\n",
       "  'transformation_terms_in_h()': {'x1': 'si', 'x2': 'ls', 'x3': 'ls'},\n",
       "  'transformation_term_nn_models_in_h()': {'x1': 'SimpleIntercept',\n",
       "   'x2': 'LinearShift',\n",
       "   'x3': 'LinearShift'},\n",
       "  'min': -1.6598963737487793,\n",
       "  'max': 1.9684462547302246}}"
      ]
     },
     "execution_count": 7,
     "metadata": {},
     "output_type": "execute_result"
    }
   ],
   "source": [
    "conf_dict=get_configuration_dict(adj_matrix,nn_names_matrix, data_type)\n",
    "# write min max to conf dict\n",
    "for i,node in enumerate(data_type.keys()):\n",
    "    conf_dict[node]['min']=min_vals[i].tolist()\n",
    "    conf_dict[node]['max']=max_vals[i].tolist()\n",
    "\n",
    "conf_dict"
   ]
  },
  {
   "cell_type": "code",
   "execution_count": 8,
   "id": "9c7e3914",
   "metadata": {},
   "outputs": [],
   "source": [
    "DEV_TRAINING=True\n",
    "train_list=['x1','x2','x3','x4']#['x1']#['x1','x2','x3']#,#,['x1','x2','x3'] # <-  set the nodes which have to be trained , useful if further training is required else lsit all vars\n",
    "\n",
    "batch_size = 4112\n",
    "epochs = 1   # <- if you want a higher numbe rof epochs, set the number higher and it loads the old model and starts from there\n",
    "use_scheduler = True"
   ]
  },
  {
   "cell_type": "code",
   "execution_count": 9,
   "id": "0c0ff138",
   "metadata": {},
   "outputs": [
    {
     "name": "stdout",
     "output_type": "stream",
     "text": [
      "\n",
      "----*----------*-------------*--------------- Node: x1 ------------*-----------------*-------------------*--\n",
      ">>>>>>>>>>>>  source node --> only  modelled only  by si\n",
      "TramModel(\n",
      "  (nn_int): SimpleIntercept(\n",
      "    (fc): Linear(in_features=1, out_features=20, bias=False)\n",
      "  )\n",
      ")\n",
      ">>>>>>>>>>>>  source node --> x in dataloader contains just 1s \n",
      "[x1] Training loss: 3.1076\n",
      "[x1] Validation loss: 3.1069\n",
      "\n",
      "----*----------*-------------*--------------- Node: x2 ------------*-----------------*-------------------*--\n",
      ">>>>>>>>>>>>  source node --> only  modelled only  by si\n",
      "TramModel(\n",
      "  (nn_int): SimpleIntercept(\n",
      "    (fc): Linear(in_features=1, out_features=20, bias=False)\n",
      "  )\n",
      ")\n",
      ">>>>>>>>>>>>  source node --> x in dataloader contains just 1s \n",
      "[x2] Training loss: 3.1375\n",
      "[x2] Validation loss: 3.1368\n",
      "\n",
      "----*----------*-------------*--------------- Node: x3 ------------*-----------------*-------------------*--\n",
      ">>>>>>>>>>>>  source node --> only  modelled only  by si\n",
      "TramModel(\n",
      "  (nn_int): SimpleIntercept(\n",
      "    (fc): Linear(in_features=1, out_features=20, bias=False)\n",
      "  )\n",
      ")\n",
      ">>>>>>>>>>>>  source node --> x in dataloader contains just 1s \n",
      "[x3] Training loss: 3.1343\n",
      "[x3] Validation loss: 3.1336\n",
      "\n",
      "----*----------*-------------*--------------- Node: x4 ------------*-----------------*-------------------*--\n",
      ">>>>>>>>>>>> No ci detected --> intercept defaults to si\n",
      ">>> TRAM MODEL:\n",
      " TramModel(\n",
      "  (nn_int): SimpleIntercept(\n",
      "    (fc): Linear(in_features=1, out_features=20, bias=False)\n",
      "  )\n",
      "  (nn_shift): ModuleList(\n",
      "    (0-1): 2 x LinearShift(\n",
      "      (fc): Linear(in_features=1, out_features=1, bias=False)\n",
      "    )\n",
      "  )\n",
      ")\n",
      "[x4] Training loss: 5.8282\n",
      "[x4] Validation loss: 4.3823\n"
     ]
    }
   ],
   "source": [
    "# For each NODE \n",
    "for node in conf_dict:\n",
    "\n",
    "    print(f'\\n----*----------*-------------*--------------- Node: {node} ------------*-----------------*-------------------*--')\n",
    "\n",
    "    ########################## 0. Skip nodes ###############################\n",
    "    if node not in train_list:\n",
    "        print(f\"Skipping node {node} as it's not in the training list.\")\n",
    "        continue\n",
    "    if (conf_dict[node]['node_type'] == 'source') and (conf_dict[node]['node_type'] == 'other'):\n",
    "        print(f\"Node type : other , is not supported yet\")\n",
    "        continue\n",
    "\n",
    "    ########################## 1. Create Model ##############################\n",
    "    tram_model = get_fully_specified_tram_model(node, conf_dict, verbose=True).to(device)\n",
    "\n",
    "    ########################## 2. Create Dataloaders ########################\n",
    "    train_loader, val_loader = get_dataloader(node, conf_dict, train_df, val_df, batch_size=batch_size, verbose=True)\n",
    "\n",
    "    ########################## 3. Min/Max Tensor ############################\n",
    "    min_vals = torch.tensor(conf_dict[node]['min'], dtype=torch.float32).to(device)\n",
    "    max_vals = torch.tensor(conf_dict[node]['max'], dtype=torch.float32).to(device)\n",
    "    min_max = torch.stack([min_vals, max_vals], dim=0)\n",
    "\n",
    "    ########################## 4. Optimizer & Scheduler #####################\n",
    "    optimizer = torch.optim.AdamW(tram_model.parameters(), lr=0.001, eps=1e-8, weight_decay=1e-2)\n",
    "\n",
    "    if use_scheduler:\n",
    "        scheduler = torch.optim.lr_scheduler.CosineAnnealingWarmRestarts(optimizer, T_0=10, T_mult=2)\n",
    "    else:\n",
    "        scheduler = None\n",
    "\n",
    "    ########################## 5. Train for One Epoch #######################\n",
    "    tram_model.train()\n",
    "    total_train_loss = 0.0\n",
    "    for x, y in train_loader:\n",
    "        optimizer.zero_grad()\n",
    "        y = y.to(device)\n",
    "        int_input, shift_list = preprocess_inputs(x, device=device)\n",
    "        y_pred = tram_model(int_input=int_input, shift_input=shift_list)\n",
    "        loss = contram_nll(y_pred, y, min_max=min_max)\n",
    "        loss.backward()\n",
    "        optimizer.step()\n",
    "        if use_scheduler:\n",
    "            scheduler.step()\n",
    "        total_train_loss += loss.item()\n",
    "    avg_train_loss = total_train_loss / len(train_loader)\n",
    "    print(f\"[{node}] Training loss: {avg_train_loss:.4f}\")\n",
    "\n",
    "    ########################## 6. Validate for One Epoch ####################\n",
    "    tram_model.eval()\n",
    "    total_val_loss = 0.0\n",
    "    with torch.no_grad():\n",
    "        for x, y in val_loader:\n",
    "            y = y.to(device)\n",
    "            int_input, shift_list = preprocess_inputs(x, device=device)\n",
    "            y_pred = tram_model(int_input=int_input, shift_input=shift_list)\n",
    "            loss = contram_nll(y_pred, y, min_max=min_max)\n",
    "            total_val_loss += loss.item()\n",
    "    avg_val_loss = total_val_loss / len(val_loader)\n",
    "    print(f\"[{node}] Validation loss: {avg_val_loss:.4f}\")\n"
   ]
  }
 ],
 "metadata": {
  "kernelspec": {
   "display_name": "tramdag",
   "language": "python",
   "name": "python3"
  },
  "language_info": {
   "codemirror_mode": {
    "name": "ipython",
    "version": 3
   },
   "file_extension": ".py",
   "mimetype": "text/x-python",
   "name": "python",
   "nbconvert_exporter": "python",
   "pygments_lexer": "ipython3",
   "version": "3.9.21"
  }
 },
 "nbformat": 4,
 "nbformat_minor": 5
}
