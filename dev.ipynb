{
 "cells": [
  {
   "cell_type": "code",
   "execution_count": 1,
   "metadata": {},
   "outputs": [],
   "source": [
    "#Imports\n",
    "import numpy as np\n",
    "import pandas as pd\n",
    "\n",
    "from utils.graph_utils import *"
   ]
  },
  {
   "cell_type": "markdown",
   "metadata": {},
   "source": []
  },
  {
   "cell_type": "markdown",
   "metadata": {},
   "source": [
    "# Define graph Structure\n",
    "\n",
    "- define graph and which shift and intercept terms to use\n"
   ]
  },
  {
   "cell_type": "code",
   "execution_count": null,
   "metadata": {},
   "outputs": [
    {
     "data": {
      "image/png": "[encoded data removed]",
      "text/plain": [
       "<Figure size 600x400 with 1 Axes>"
      ]
     },
     "metadata": {},
     "output_type": "display_data"
    }
   ],
   "source": [
    "# describe if data is continous or  ordinal  ['cont', 'ord','other']\n",
    "# note that other data than tabular can only be used as source \n",
    "\n",
    "\n",
    "\n",
    "# Example 1 3x3:\n",
    "# data_type={'X0':'cont','X1':'other','X2':'ord'}  # images, continous, continous, continous\n",
    "# adj_matrix = np.array([\n",
    "#     [ \"0\", \"0\", \"ci\"],  # A -> B (cs), A -> C (ls)\n",
    "#     [ \"0\", \"0\", \"cs\"],  # B -> D (ls)\n",
    "#     [ \"0\", \"0\", \"0\"],  # C -> D (cs)\n",
    "# ], object)\n",
    "\n",
    "\n",
    "## example 2 4x4\n",
    "data_type={'X0':'other','X1':'ord','X2':'ord','X3':'ord'}  # images, continous, continous, continous    \n",
    "adj_matrix = np.array([\n",
    "                                [\"0\", \"cs\", \"ls\", \"0\"],  # A -> B (cs), A -> C (ls)\n",
    "                                [\"0\", \"0\", \"0\", \"ls\"],  # B -> D (ls)\n",
    "                                [\"0\", \"0\", \"0\", \"cs\"],  # C -> D (cs)\n",
    "                                [\"0\", \"0\", \"0\", \"0\"]    # No outgoing edges from D\n",
    "                            ], dtype=object)\n",
    "\n",
    "\n",
    "plot_dag(adj_matrix,data_type, seed=42)"
   ]
  },
  {
   "cell_type": "markdown",
   "metadata": {},
   "source": [
    "# Configuration for the Models\n",
    "\n",
    "- all SI and LS model are generated outmatically since these are shallow NN's\n",
    "- CI and CS have to be defined by the User and can be Passed for each model, -> generate default networks which are generated automaitcally"
   ]
  },
  {
   "cell_type": "code",
   "execution_count": null,
   "metadata": {},
   "outputs": [
    {
     "name": "stdout",
     "output_type": "stream",
     "text": [
      "**** \n",
      " Model has Complex intercepts and Coomplex shifts , please add your Model to the modelzoo \n",
      "****\n"
     ]
    },
    {
     "data": {
      "text/plain": [
       "array([['0', 'ComplexShiftDefaultTabular', 'LinearShift', '0'],\n",
       "       ['0', '0', '0', 'LinearShift'],\n",
       "       ['0', '0', '0', 'ComplexShiftDefaultTabular'],\n",
       "       ['0', '0', '0', '0']], dtype=object)"
      ]
     },
     "execution_count": 7,
     "metadata": {},
     "output_type": "execute_result"
    }
   ],
   "source": [
    "# check if there are Ci or Compelx shifts in the models. If yes define the modelnames\n",
    "nn_names_matrix= create_nn_model_names(adj_matrix,data_type)\n",
    "nn_names_matrix\n",
    "\n",
    "## BUG has bug does not find the correct modelnames for the nn image should have x= -X1 should be cS imagedate defalut\n",
    "# \n",
    "\n",
    "\n",
    "\n",
    "\n"
   ]
  },
  {
   "cell_type": "code",
   "execution_count": null,
   "metadata": {},
   "outputs": [],
   "source": [
    "# TODO: fucniton to automate\n",
    "# if different models should be used, defin model in utils.models \n",
    "# e.g ComplexInterceptCUSTOMImage # any possible eg VITS\n",
    "\n",
    "# rename the modelnames in the nn_names_matrix\n",
    "# e.g.nn_names_matrix[2,3]='ComplexInterceptCUSTOMImage'  "
   ]
  },
  {
   "cell_type": "code",
   "execution_count": 10,
   "metadata": {},
   "outputs": [
    {
     "data": {
      "text/plain": [
       "{'X0': {'Modelnr': 0,\n",
       "  'data_type': 'other',\n",
       "  'node_type': 'source',\n",
       "  'parents': [],\n",
       "  'parents_datatype': [],\n",
       "  'transformation_terms_in_h()': {},\n",
       "  'transformation_term_nn_models_in_h()': {}},\n",
       " 'X1': {'Modelnr': 1,\n",
       "  'data_type': 'ord',\n",
       "  'node_type': 'internal',\n",
       "  'parents': ['X0'],\n",
       "  'parents_datatype': ['other'],\n",
       "  'transformation_terms_in_h()': {'X0': 'cs'},\n",
       "  'transformation_term_nn_models_in_h()': {'X0': 'ComplexShiftDefaultTabular'}},\n",
       " 'X2': {'Modelnr': 2,\n",
       "  'data_type': 'ord',\n",
       "  'node_type': 'internal',\n",
       "  'parents': ['X0'],\n",
       "  'parents_datatype': ['other'],\n",
       "  'transformation_terms_in_h()': {'X0': 'ls'},\n",
       "  'transformation_term_nn_models_in_h()': {'X0': 'LinearShift'}},\n",
       " 'X3': {'Modelnr': 3,\n",
       "  'data_type': 'ord',\n",
       "  'node_type': 'sink',\n",
       "  'parents': ['X1', 'X2'],\n",
       "  'parents_datatype': ['ord', 'ord'],\n",
       "  'transformation_terms_in_h()': {'X1': 'ls', 'X2': 'cs'},\n",
       "  'transformation_term_nn_models_in_h()': {'X1': 'LinearShift',\n",
       "   'X2': 'ComplexShiftDefaultTabular'}}}"
      ]
     },
     "execution_count": 10,
     "metadata": {},
     "output_type": "execute_result"
    }
   ],
   "source": [
    "configuration_dict=get_configuration_dict(adj_matrix,nn_names_matrix, data_type)\n",
    "configuration_dict"
   ]
  },
  {
   "cell_type": "markdown",
   "metadata": {},
   "source": [
    "## Fit models\n",
    "\n",
    "- each model independently fitting"
   ]
  },
  {
   "cell_type": "code",
   "execution_count": null,
   "metadata": {},
   "outputs": [],
   "source": [
    "# for each model \n",
    "\n",
    "- create the ontram model \n",
    " \n",
    " - create the dataloaders train val\n",
    " \n",
    " \n",
    " -fit model and save weights.."
   ]
  },
  {
   "cell_type": "markdown",
   "metadata": {},
   "source": [
    "# Sample"
   ]
  }
 ],
 "metadata": {
  "kernelspec": {
   "display_name": "tramdag",
   "language": "python",
   "name": "python3"
  },
  "language_info": {
   "codemirror_mode": {
    "name": "ipython",
    "version": 3
   },
   "file_extension": ".py",
   "mimetype": "text/x-python",
   "name": "python",
   "nbconvert_exporter": "python",
   "pygments_lexer": "ipython3",
   "version": "3.9.21"
  }
 },
 "nbformat": 4,
 "nbformat_minor": 2
}
