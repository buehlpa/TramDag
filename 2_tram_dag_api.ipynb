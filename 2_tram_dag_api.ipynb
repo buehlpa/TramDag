{
 "cells": [
  {
   "cell_type": "code",
   "execution_count": 1,
   "id": "01b6c9ae",
   "metadata": {},
   "outputs": [],
   "source": [
    "from sklearn.model_selection import train_test_split\n",
    "from sklearn.datasets import make_blobs\n",
    "import pandas as pd\n",
    "from utils.tramdag import *\n",
    "\n",
    "\n",
    "X, _ = make_blobs(n_samples=100_000,centers=3, n_features=7)\n",
    "df = pd.DataFrame(X, columns=[\"x1\", \"x2\", \"x3\",\"x4\", \"x5\", \"x6\", \"x7\"])\n",
    "\n",
    "# 1. Split the data\n",
    "train_df, temp_df = train_test_split(df, test_size=0.2, random_state=42)\n",
    "val_df, test_df = train_test_split(temp_df, test_size=0.5, random_state=42)\n",
    "\n",
    "cfg = TramDagConfig.load(\"/home/bule/TramDag/dev_experiment_logs/create_configration_test3/configuration.json\")\n",
    "# cfg.plot_dag()\n",
    "\n",
    "device='cpu'\n",
    "\n",
    "\n",
    "td_model = TramDagModel.from_config(cfg, set_initial_weights=False,verbose=True,debug=False,device=device) \n",
    "\n",
    "\n",
    "# td_model.fit(train_df, val_df,\n",
    "#              epochs=125,batch_size=10_000,\n",
    "#              verbose=False,debug=False,\n",
    "#              device=device,\n",
    "#              prefetch_factor=2,num_workers=4,persistent_workers=True)#,\n",
    "#             #  use_dataloader=True,\n",
    "#             #  p,\n",
    "#             #  )"
   ]
  },
  {
   "cell_type": "code",
   "execution_count": 2,
   "id": "e95b4bd9",
   "metadata": {},
   "outputs": [
    {
     "name": "stdout",
     "output_type": "stream",
     "text": [
      "[INFO] Computing new minmax dict from training data...\n",
      "[INFO] Saved new minmax dict to /home/bule/TramDag/dev_experiment_logs/create_configration_test3/min_max_scaling.json\n",
      "[INFO] Training 7 nodes (multiprocess) on cpu\n",
      "[INFO] Using 7 CPU workers for parallel node training\n"
     ]
    },
    {
     "name": "stderr",
     "output_type": "stream",
     "text": [
      "[Parallel(n_jobs=7)]: Using backend MultiprocessingBackend with 7 concurrent workers.\n",
      "[Parallel(n_jobs=7)]: Done   1 tasks      | elapsed:   27.2s\n",
      "[Parallel(n_jobs=7)]: Done   2 out of   7 | elapsed:   27.3s remaining:  1.1min\n",
      "[Parallel(n_jobs=7)]: Done   3 out of   7 | elapsed:   27.3s remaining:   36.4s\n",
      "[Parallel(n_jobs=7)]: Done   4 out of   7 | elapsed:   27.3s remaining:   20.5s\n",
      "[Parallel(n_jobs=7)]: Done   5 out of   7 | elapsed:   27.7s remaining:   11.1s\n",
      "[Parallel(n_jobs=7)]: Done   7 out of   7 | elapsed:  1.2min finished\n"
     ]
    },
    {
     "data": {
      "text/plain": [
       "{'x1': None,\n",
       " 'x2': None,\n",
       " 'x3': None,\n",
       " 'x4': None,\n",
       " 'x5': None,\n",
       " 'x6': None,\n",
       " 'x7': None}"
      ]
     },
     "execution_count": 2,
     "metadata": {},
     "output_type": "execute_result"
    }
   ],
   "source": [
    "td_model.fit(train_df, val_df,\n",
    "             epochs=135,batch_size=10_000,\n",
    "             verbose=False,debug=False,\n",
    "             device=device,\n",
    "             train_mode = \"multiprocess\")#,"
   ]
  },
  {
   "cell_type": "code",
   "execution_count": 3,
   "id": "2e7606d5",
   "metadata": {},
   "outputs": [
    {
     "data": {
      "text/plain": [
       "device(type='cpu')"
      ]
     },
     "execution_count": 3,
     "metadata": {},
     "output_type": "execute_result"
    }
   ],
   "source": [
    "td_model.device"
   ]
  },
  {
   "cell_type": "code",
   "execution_count": 4,
   "id": "f3726586",
   "metadata": {},
   "outputs": [
    {
     "name": "stdout",
     "output_type": "stream",
     "text": [
      "[INFO] Starting full DAG sampling with 10000 samples per node.\n",
      "[INFO] Deleting all previously sampled data.\n",
      "Directory does not exist: /home/bule/TramDag/dev_experiment_logs/create_configration_test3/x1/sampling\n",
      "Directory does not exist: /home/bule/TramDag/dev_experiment_logs/create_configration_test3/x2/sampling\n",
      "Directory does not exist: /home/bule/TramDag/dev_experiment_logs/create_configration_test3/x3/sampling\n",
      "Directory does not exist: /home/bule/TramDag/dev_experiment_logs/create_configration_test3/x4/sampling\n",
      "Directory does not exist: /home/bule/TramDag/dev_experiment_logs/create_configration_test3/x5/sampling\n",
      "Directory does not exist: /home/bule/TramDag/dev_experiment_logs/create_configration_test3/x6/sampling\n",
      "Directory does not exist: /home/bule/TramDag/dev_experiment_logs/create_configration_test3/x7/sampling\n",
      "\n",
      "----*----------*-------------*--------Sample Node: x1 ------------*-----------------*-------------------*--\n",
      "[INFO] Sampling new latents for node x1 from standard logistic distribution\n",
      "[WARNING] target_col 'x1' not in DataFrame columns — is this intended to be used as a Sampler?\n"
     ]
    },
    {
     "name": "stderr",
     "output_type": "stream",
     "text": [
      "Chandrupatla root finding:  53%|█████▎    | 5328/10000 [00:10<00:09, 493.30it/s]\n"
     ]
    },
    {
     "ename": "KeyboardInterrupt",
     "evalue": "",
     "output_type": "error",
     "traceback": [
      "\u001b[0;31m---------------------------------------------------------------------------\u001b[0m",
      "\u001b[0;31mKeyboardInterrupt\u001b[0m                         Traceback (most recent call last)",
      "Cell \u001b[0;32mIn[4], line 1\u001b[0m\n\u001b[0;32m----> 1\u001b[0m \u001b[43mtd_model\u001b[49m\u001b[38;5;241;43m.\u001b[39;49m\u001b[43msample\u001b[49m\u001b[43m(\u001b[49m\u001b[43mdevice\u001b[49m\u001b[38;5;241;43m=\u001b[39;49m\u001b[38;5;124;43m'\u001b[39;49m\u001b[38;5;124;43mcuda\u001b[39;49m\u001b[38;5;124;43m'\u001b[39;49m\u001b[43m)\u001b[49m\n",
      "File \u001b[0;32m~/TramDag/utils/tramdag.py:1142\u001b[0m, in \u001b[0;36mTramDagModel.sample\u001b[0;34m(self, do_interventions, predefined_latent_samples_df, **kwargs)\u001b[0m\n\u001b[1;32m   1139\u001b[0m     \u001b[38;5;28mprint\u001b[39m(\u001b[38;5;124mf\u001b[39m\u001b[38;5;124m\"\u001b[39m\u001b[38;5;124m[DEBUG] sample(): device: \u001b[39m\u001b[38;5;132;01m{\u001b[39;00mdevice\u001b[38;5;132;01m}\u001b[39;00m\u001b[38;5;124m\"\u001b[39m)\n\u001b[1;32m   1141\u001b[0m \u001b[38;5;66;03m# ---- perform sampling ----\u001b[39;00m\n\u001b[0;32m-> 1142\u001b[0m sampled_by_node, latents_by_node \u001b[38;5;241m=\u001b[39m \u001b[43msample_full_dag\u001b[49m\u001b[43m(\u001b[49m\n\u001b[1;32m   1143\u001b[0m \u001b[43m    \u001b[49m\u001b[43mconfiguration_dict\u001b[49m\u001b[38;5;241;43m=\u001b[39;49m\u001b[38;5;28;43mself\u001b[39;49m\u001b[38;5;241;43m.\u001b[39;49m\u001b[43mcfg\u001b[49m\u001b[38;5;241;43m.\u001b[39;49m\u001b[43mconf_dict\u001b[49m\u001b[43m,\u001b[49m\n\u001b[1;32m   1144\u001b[0m \u001b[43m    \u001b[49m\u001b[43mEXPERIMENT_DIR\u001b[49m\u001b[38;5;241;43m=\u001b[39;49m\u001b[43mEXPERIMENT_DIR\u001b[49m\u001b[43m,\u001b[49m\n\u001b[1;32m   1145\u001b[0m \u001b[43m    \u001b[49m\u001b[43mdevice\u001b[49m\u001b[38;5;241;43m=\u001b[39;49m\u001b[43mdevice\u001b[49m\u001b[43m,\u001b[49m\n\u001b[1;32m   1146\u001b[0m \u001b[43m    \u001b[49m\u001b[43mdo_interventions\u001b[49m\u001b[38;5;241;43m=\u001b[39;49m\u001b[43mdo_interventions\u001b[49m\u001b[43m \u001b[49m\u001b[38;5;129;43;01mor\u001b[39;49;00m\u001b[43m \u001b[49m\u001b[43m{\u001b[49m\u001b[43m}\u001b[49m\u001b[43m,\u001b[49m\n\u001b[1;32m   1147\u001b[0m \u001b[43m    \u001b[49m\u001b[43mpredefined_latent_samples_df\u001b[49m\u001b[38;5;241;43m=\u001b[39;49m\u001b[43mpredefined_latent_samples_df\u001b[49m\u001b[43m,\u001b[49m\n\u001b[1;32m   1148\u001b[0m \u001b[43m    \u001b[49m\u001b[43mnumber_of_samples\u001b[49m\u001b[38;5;241;43m=\u001b[39;49m\u001b[43msettings\u001b[49m\u001b[43m[\u001b[49m\u001b[38;5;124;43m\"\u001b[39;49m\u001b[38;5;124;43mnumber_of_samples\u001b[39;49m\u001b[38;5;124;43m\"\u001b[39;49m\u001b[43m]\u001b[49m\u001b[43m,\u001b[49m\n\u001b[1;32m   1149\u001b[0m \u001b[43m    \u001b[49m\u001b[43mbatch_size\u001b[49m\u001b[38;5;241;43m=\u001b[39;49m\u001b[43msettings\u001b[49m\u001b[43m[\u001b[49m\u001b[38;5;124;43m\"\u001b[39;49m\u001b[38;5;124;43mbatch_size\u001b[39;49m\u001b[38;5;124;43m\"\u001b[39;49m\u001b[43m]\u001b[49m\u001b[43m,\u001b[49m\n\u001b[1;32m   1150\u001b[0m \u001b[43m    \u001b[49m\u001b[43mdelete_all_previously_sampled\u001b[49m\u001b[38;5;241;43m=\u001b[39;49m\u001b[43msettings\u001b[49m\u001b[43m[\u001b[49m\u001b[38;5;124;43m\"\u001b[39;49m\u001b[38;5;124;43mdelete_all_previously_sampled\u001b[39;49m\u001b[38;5;124;43m\"\u001b[39;49m\u001b[43m]\u001b[49m\u001b[43m,\u001b[49m\n\u001b[1;32m   1151\u001b[0m \u001b[43m    \u001b[49m\u001b[43mverbose\u001b[49m\u001b[38;5;241;43m=\u001b[39;49m\u001b[43msettings\u001b[49m\u001b[43m[\u001b[49m\u001b[38;5;124;43m\"\u001b[39;49m\u001b[38;5;124;43mverbose\u001b[39;49m\u001b[38;5;124;43m\"\u001b[39;49m\u001b[43m]\u001b[49m\u001b[43m,\u001b[49m\n\u001b[1;32m   1152\u001b[0m \u001b[43m    \u001b[49m\u001b[43mdebug\u001b[49m\u001b[38;5;241;43m=\u001b[39;49m\u001b[43msettings\u001b[49m\u001b[43m[\u001b[49m\u001b[38;5;124;43m\"\u001b[39;49m\u001b[38;5;124;43mdebug\u001b[39;49m\u001b[38;5;124;43m\"\u001b[39;49m\u001b[43m]\u001b[49m\u001b[43m,\u001b[49m\n\u001b[1;32m   1153\u001b[0m \u001b[43m    \u001b[49m\u001b[43mminmax_dict\u001b[49m\u001b[38;5;241;43m=\u001b[39;49m\u001b[38;5;28;43mself\u001b[39;49m\u001b[38;5;241;43m.\u001b[39;49m\u001b[43mminmax_dict\u001b[49m\u001b[43m,\u001b[49m\n\u001b[1;32m   1154\u001b[0m \u001b[43m\u001b[49m\u001b[43m)\u001b[49m\n\u001b[1;32m   1156\u001b[0m \u001b[38;5;28;01mreturn\u001b[39;00m sampled_by_node, latents_by_node\n",
      "File \u001b[0;32m~/TramDag/utils/tram_data_helpers.py:983\u001b[0m, in \u001b[0;36msample_full_dag\u001b[0;34m(configuration_dict, EXPERIMENT_DIR, device, do_interventions, predefined_latent_samples_df, number_of_samples, batch_size, delete_all_previously_sampled, verbose, debug, minmax_dict)\u001b[0m\n\u001b[1;32m    980\u001b[0m \u001b[38;5;66;03m###*************************************************** Continous Modelled Outcome ************************************************\u001b[39;00m\n\u001b[1;32m    982\u001b[0m \u001b[38;5;28;01mif\u001b[39;00m is_outcome_modelled_continous(node,target_nodes_dict):\n\u001b[0;32m--> 983\u001b[0m     sampled\u001b[38;5;241m=\u001b[39m\u001b[43msample_continous_modelled_target\u001b[49m\u001b[43m(\u001b[49m\u001b[43mnode\u001b[49m\u001b[43m,\u001b[49m\u001b[43mtarget_nodes_dict\u001b[49m\u001b[43m,\u001b[49m\u001b[43msample_loader\u001b[49m\u001b[43m,\u001b[49m\u001b[43mtram_model\u001b[49m\u001b[43m,\u001b[49m\u001b[43mlatent_sample\u001b[49m\u001b[43m,\u001b[49m\u001b[43mdevice\u001b[49m\u001b[38;5;241;43m=\u001b[39;49m\u001b[43mdevice\u001b[49m\u001b[43m,\u001b[49m\u001b[43m \u001b[49m\u001b[43mdebug\u001b[49m\u001b[38;5;241;43m=\u001b[39;49m\u001b[43mdebug\u001b[49m\u001b[43m,\u001b[49m\u001b[43mminmax_dict\u001b[49m\u001b[38;5;241;43m=\u001b[39;49m\u001b[43mminmax_dict\u001b[49m\u001b[43m)\u001b[49m\n\u001b[1;32m    985\u001b[0m \u001b[38;5;66;03m###*************************************************** Ordinal Modelled Outcome ************************************************\u001b[39;00m\n\u001b[1;32m    987\u001b[0m \u001b[38;5;28;01melif\u001b[39;00m is_outcome_modelled_ordinal(node,target_nodes_dict):\n",
      "File \u001b[0;32m~/TramDag/utils/tram_data_helpers.py:631\u001b[0m, in \u001b[0;36msample_continous_modelled_target\u001b[0;34m(node, target_nodes_dict, sample_loader, tram_model, latent_sample, device, debug, minmax_dict)\u001b[0m\n\u001b[1;32m    621\u001b[0m     \u001b[38;5;28;01mreturn\u001b[39;00m vectorized_object_function(\n\u001b[1;32m    622\u001b[0m         thetas_expanded,\n\u001b[1;32m    623\u001b[0m         targets,\n\u001b[0;32m   (...)\u001b[0m\n\u001b[1;32m    627\u001b[0m         k_max\u001b[38;5;241m=\u001b[39mmin_max[\u001b[38;5;241m1\u001b[39m]\n\u001b[1;32m    628\u001b[0m     )\n\u001b[1;32m    630\u001b[0m \u001b[38;5;66;03m# Root finding\u001b[39;00m\n\u001b[0;32m--> 631\u001b[0m sampled \u001b[38;5;241m=\u001b[39m \u001b[43mchandrupatla_root_finder\u001b[49m\u001b[43m(\u001b[49m\n\u001b[1;32m    632\u001b[0m \u001b[43m    \u001b[49m\u001b[43mf_vectorized\u001b[49m\u001b[43m,\u001b[49m\n\u001b[1;32m    633\u001b[0m \u001b[43m    \u001b[49m\u001b[43mlow\u001b[49m\u001b[43m,\u001b[49m\n\u001b[1;32m    634\u001b[0m \u001b[43m    \u001b[49m\u001b[43mhigh\u001b[49m\u001b[43m,\u001b[49m\n\u001b[1;32m    635\u001b[0m \u001b[43m    \u001b[49m\u001b[43mmax_iter\u001b[49m\u001b[38;5;241;43m=\u001b[39;49m\u001b[38;5;241;43m10_000\u001b[39;49m\u001b[43m,\u001b[49m\n\u001b[1;32m    636\u001b[0m \u001b[43m    \u001b[49m\u001b[43mtol\u001b[49m\u001b[38;5;241;43m=\u001b[39;49m\u001b[38;5;241;43m1e-12\u001b[39;49m\n\u001b[1;32m    637\u001b[0m \u001b[43m\u001b[49m\u001b[43m)\u001b[49m\n\u001b[1;32m    639\u001b[0m \u001b[38;5;28;01mif\u001b[39;00m sampled \u001b[38;5;129;01mis\u001b[39;00m \u001b[38;5;28;01mNone\u001b[39;00m \u001b[38;5;129;01mor\u001b[39;00m torch\u001b[38;5;241m.\u001b[39misnan(sampled)\u001b[38;5;241m.\u001b[39many():\n\u001b[1;32m    640\u001b[0m     \u001b[38;5;28;01mraise\u001b[39;00m \u001b[38;5;167;01mRuntimeError\u001b[39;00m(\u001b[38;5;124m\"\u001b[39m\u001b[38;5;124mRoot finding failed: returned None or contains NaNs.\u001b[39m\u001b[38;5;124m\"\u001b[39m)\n",
      "File \u001b[0;32m~/TramDag/utils/loss_continous.py:399\u001b[0m, in \u001b[0;36mchandrupatla_root_finder\u001b[0;34m(f, low, high, max_iter, tol)\u001b[0m\n\u001b[1;32m    391\u001b[0m fallback \u001b[38;5;241m=\u001b[39m (\n\u001b[1;32m    392\u001b[0m     (s \u001b[38;5;241m<\u001b[39m torch\u001b[38;5;241m.\u001b[39mminimum(a, b)) \u001b[38;5;241m|\u001b[39m\n\u001b[1;32m    393\u001b[0m     (s \u001b[38;5;241m>\u001b[39m torch\u001b[38;5;241m.\u001b[39mmaximum(a, b)) \u001b[38;5;241m|\u001b[39m\n\u001b[1;32m    394\u001b[0m     (torch\u001b[38;5;241m.\u001b[39mabs(s \u001b[38;5;241m-\u001b[39m b) \u001b[38;5;241m>\u001b[39m\u001b[38;5;241m=\u001b[39m torch\u001b[38;5;241m.\u001b[39mabs(b \u001b[38;5;241m-\u001b[39m c) \u001b[38;5;241m/\u001b[39m \u001b[38;5;241m2\u001b[39m) \u001b[38;5;241m|\u001b[39m\n\u001b[1;32m    395\u001b[0m     (torch\u001b[38;5;241m.\u001b[39mabs(b \u001b[38;5;241m-\u001b[39m c) \u001b[38;5;241m<\u001b[39m tol)\n\u001b[1;32m    396\u001b[0m )\n\u001b[1;32m    397\u001b[0m s \u001b[38;5;241m=\u001b[39m torch\u001b[38;5;241m.\u001b[39mwhere(fallback, s_bisect, s)\n\u001b[0;32m--> 399\u001b[0m fs \u001b[38;5;241m=\u001b[39m \u001b[43mf\u001b[49m\u001b[43m(\u001b[49m\u001b[43ms\u001b[49m\u001b[43m)\u001b[49m\n\u001b[1;32m    400\u001b[0m c, fc \u001b[38;5;241m=\u001b[39m b\u001b[38;5;241m.\u001b[39mclone(), fb\u001b[38;5;241m.\u001b[39mclone()\n\u001b[1;32m    402\u001b[0m use_lower \u001b[38;5;241m=\u001b[39m (fa \u001b[38;5;241m*\u001b[39m fs \u001b[38;5;241m<\u001b[39m \u001b[38;5;241m0\u001b[39m)\n",
      "File \u001b[0;32m~/TramDag/utils/tram_data_helpers.py:621\u001b[0m, in \u001b[0;36msample_continous_modelled_target.<locals>.f_vectorized\u001b[0;34m(targets)\u001b[0m\n\u001b[1;32m    620\u001b[0m \u001b[38;5;28;01mdef\u001b[39;00m\u001b[38;5;250m \u001b[39m\u001b[38;5;21mf_vectorized\u001b[39m(targets):\n\u001b[0;32m--> 621\u001b[0m     \u001b[38;5;28;01mreturn\u001b[39;00m \u001b[43mvectorized_object_function\u001b[49m\u001b[43m(\u001b[49m\n\u001b[1;32m    622\u001b[0m \u001b[43m        \u001b[49m\u001b[43mthetas_expanded\u001b[49m\u001b[43m,\u001b[49m\n\u001b[1;32m    623\u001b[0m \u001b[43m        \u001b[49m\u001b[43mtargets\u001b[49m\u001b[43m,\u001b[49m\n\u001b[1;32m    624\u001b[0m \u001b[43m        \u001b[49m\u001b[43mshifts\u001b[49m\u001b[43m,\u001b[49m\n\u001b[1;32m    625\u001b[0m \u001b[43m        \u001b[49m\u001b[43mlatent_sample\u001b[49m\u001b[43m,\u001b[49m\n\u001b[1;32m    626\u001b[0m \u001b[43m        \u001b[49m\u001b[43mk_min\u001b[49m\u001b[38;5;241;43m=\u001b[39;49m\u001b[43mmin_max\u001b[49m\u001b[43m[\u001b[49m\u001b[38;5;241;43m0\u001b[39;49m\u001b[43m]\u001b[49m\u001b[43m,\u001b[49m\n\u001b[1;32m    627\u001b[0m \u001b[43m        \u001b[49m\u001b[43mk_max\u001b[49m\u001b[38;5;241;43m=\u001b[39;49m\u001b[43mmin_max\u001b[49m\u001b[43m[\u001b[49m\u001b[38;5;241;43m1\u001b[39;49m\u001b[43m]\u001b[49m\n\u001b[1;32m    628\u001b[0m \u001b[43m    \u001b[49m\u001b[43m)\u001b[49m\n",
      "File \u001b[0;32m~/TramDag/utils/loss_continous.py:418\u001b[0m, in \u001b[0;36mvectorized_object_function\u001b[0;34m(thetas, targets, shifts, latent_sample, k_min, k_max)\u001b[0m\n\u001b[1;32m    415\u001b[0m \u001b[38;5;28;01mdef\u001b[39;00m\u001b[38;5;250m \u001b[39m\u001b[38;5;21mvectorized_object_function\u001b[39m( thetas: torch\u001b[38;5;241m.\u001b[39mTensor,targets: torch\u001b[38;5;241m.\u001b[39mTensor, shifts: torch\u001b[38;5;241m.\u001b[39mTensor,\n\u001b[1;32m    416\u001b[0m                                latent_sample: torch\u001b[38;5;241m.\u001b[39mTensor, k_min: \u001b[38;5;28mfloat\u001b[39m, k_max: \u001b[38;5;28mfloat\u001b[39m) \u001b[38;5;241m-\u001b[39m\u001b[38;5;241m>\u001b[39m torch\u001b[38;5;241m.\u001b[39mTensor:\n\u001b[1;32m    417\u001b[0m     \u001b[38;5;66;03m# h(xj)-latent_sample=0 , solve for xj\u001b[39;00m\n\u001b[0;32m--> 418\u001b[0m     \u001b[38;5;28;01mreturn\u001b[39;00m \u001b[43mh_extrapolated_with_shift\u001b[49m\u001b[43m(\u001b[49m\u001b[43mthetas\u001b[49m\u001b[43m,\u001b[49m\u001b[43m \u001b[49m\u001b[43mtargets\u001b[49m\u001b[43m,\u001b[49m\u001b[43m \u001b[49m\u001b[43mshifts\u001b[49m\u001b[43m,\u001b[49m\u001b[43m \u001b[49m\u001b[43mk_min\u001b[49m\u001b[43m,\u001b[49m\u001b[43m \u001b[49m\u001b[43mk_max\u001b[49m\u001b[43m)\u001b[49m \u001b[38;5;241m-\u001b[39m latent_sample\n",
      "File \u001b[0;32m~/TramDag/utils/loss_continous.py:318\u001b[0m, in \u001b[0;36mh_extrapolated_with_shift\u001b[0;34m(thetas, targets, shifts, k_min, k_max)\u001b[0m\n\u001b[1;32m    316\u001b[0m \u001b[38;5;66;03m# Left extrapolation\u001b[39;00m\n\u001b[1;32m    317\u001b[0m b0 \u001b[38;5;241m=\u001b[39m h_dag(L_tensor\u001b[38;5;241m.\u001b[39mexpand_as(targets), thetas)\u001b[38;5;241m.\u001b[39munsqueeze(\u001b[38;5;241m-\u001b[39m\u001b[38;5;241m1\u001b[39m) \u001b[38;5;241m+\u001b[39m shifts_exp\n\u001b[0;32m--> 318\u001b[0m slope0 \u001b[38;5;241m=\u001b[39m \u001b[43mh_dag_dash\u001b[49m\u001b[43m(\u001b[49m\u001b[43mL_tensor\u001b[49m\u001b[38;5;241;43m.\u001b[39;49m\u001b[43mexpand_as\u001b[49m\u001b[43m(\u001b[49m\u001b[43mtargets\u001b[49m\u001b[43m)\u001b[49m\u001b[43m,\u001b[49m\u001b[43m \u001b[49m\u001b[43mthetas\u001b[49m\u001b[43m)\u001b[49m\u001b[38;5;241m.\u001b[39munsqueeze(\u001b[38;5;241m-\u001b[39m\u001b[38;5;241m1\u001b[39m)\n\u001b[1;32m    319\u001b[0m h_left \u001b[38;5;241m=\u001b[39m slope0 \u001b[38;5;241m*\u001b[39m (t_i_exp \u001b[38;5;241m-\u001b[39m L_tensor) \u001b[38;5;241m+\u001b[39m b0\n\u001b[1;32m    321\u001b[0m h \u001b[38;5;241m=\u001b[39m h_left\u001b[38;5;241m.\u001b[39mclone()\n",
      "File \u001b[0;32m~/TramDag/utils/loss_continous.py:172\u001b[0m, in \u001b[0;36mh_dag_dash\u001b[0;34m(targets, thetas)\u001b[0m\n\u001b[1;32m    170\u001b[0m _, b \u001b[38;5;241m=\u001b[39m thetas\u001b[38;5;241m.\u001b[39mshape\n\u001b[1;32m    171\u001b[0m dtheta \u001b[38;5;241m=\u001b[39m thetas[:, \u001b[38;5;241m1\u001b[39m:] \u001b[38;5;241m-\u001b[39m thetas[:, :\u001b[38;5;241m-\u001b[39m\u001b[38;5;241m1\u001b[39m]         \u001b[38;5;66;03m# shape (n, b-1)\u001b[39;00m\n\u001b[0;32m--> 172\u001b[0m B_dash \u001b[38;5;241m=\u001b[39m \u001b[43mbernstein_basis\u001b[49m\u001b[43m(\u001b[49m\u001b[43mtargets\u001b[49m\u001b[43m,\u001b[49m\u001b[43m \u001b[49m\u001b[43mb\u001b[49m\u001b[43m \u001b[49m\u001b[38;5;241;43m-\u001b[39;49m\u001b[43m \u001b[49m\u001b[38;5;241;43m2\u001b[39;49m\u001b[43m)\u001b[49m        \u001b[38;5;66;03m# shape (n, b-1)\u001b[39;00m\n\u001b[1;32m    173\u001b[0m \u001b[38;5;28;01mreturn\u001b[39;00m torch\u001b[38;5;241m.\u001b[39msum(B_dash \u001b[38;5;241m*\u001b[39m dtheta, dim\u001b[38;5;241m=\u001b[39m\u001b[38;5;241m1\u001b[39m)\n",
      "File \u001b[0;32m~/TramDag/utils/loss_continous.py:128\u001b[0m, in \u001b[0;36mbernstein_basis\u001b[0;34m(tensor, M)\u001b[0m\n\u001b[1;32m    125\u001b[0m eps \u001b[38;5;241m=\u001b[39m torch\u001b[38;5;241m.\u001b[39mfinfo(dtype)\u001b[38;5;241m.\u001b[39meps\n\u001b[1;32m    126\u001b[0m tensor_expanded \u001b[38;5;241m=\u001b[39m torch\u001b[38;5;241m.\u001b[39mclamp(tensor_expanded, \u001b[38;5;28mmin\u001b[39m\u001b[38;5;241m=\u001b[39meps, \u001b[38;5;28mmax\u001b[39m\u001b[38;5;241m=\u001b[39m\u001b[38;5;241m1\u001b[39m \u001b[38;5;241m-\u001b[39m eps)\n\u001b[0;32m--> 128\u001b[0m k_values \u001b[38;5;241m=\u001b[39m \u001b[43mtorch\u001b[49m\u001b[38;5;241;43m.\u001b[39;49m\u001b[43marange\u001b[49m\u001b[43m(\u001b[49m\u001b[43mM\u001b[49m\u001b[43m \u001b[49m\u001b[38;5;241;43m+\u001b[39;49m\u001b[43m \u001b[49m\u001b[38;5;241;43m1\u001b[39;49m\u001b[43m,\u001b[49m\u001b[43m \u001b[49m\u001b[43mdtype\u001b[49m\u001b[38;5;241;43m=\u001b[39;49m\u001b[43mdtype\u001b[49m\u001b[43m,\u001b[49m\u001b[43m \u001b[49m\u001b[43mdevice\u001b[49m\u001b[38;5;241;43m=\u001b[39;49m\u001b[43mtensor\u001b[49m\u001b[38;5;241;43m.\u001b[39;49m\u001b[43mdevice\u001b[49m\u001b[43m)\u001b[49m  \u001b[38;5;66;03m# shape (M+1,)\u001b[39;00m\n\u001b[1;32m    130\u001b[0m \u001b[38;5;66;03m# Log binomial coefficient: log(M choose k)\u001b[39;00m\n\u001b[1;32m    131\u001b[0m log_binomial_coeff \u001b[38;5;241m=\u001b[39m (\n\u001b[1;32m    132\u001b[0m     torch\u001b[38;5;241m.\u001b[39mlgamma(M \u001b[38;5;241m+\u001b[39m \u001b[38;5;241m1\u001b[39m) \n\u001b[1;32m    133\u001b[0m     \u001b[38;5;241m-\u001b[39m torch\u001b[38;5;241m.\u001b[39mlgamma(k_values \u001b[38;5;241m+\u001b[39m \u001b[38;5;241m1\u001b[39m) \n\u001b[1;32m    134\u001b[0m     \u001b[38;5;241m-\u001b[39m torch\u001b[38;5;241m.\u001b[39mlgamma(M \u001b[38;5;241m-\u001b[39m k_values \u001b[38;5;241m+\u001b[39m \u001b[38;5;241m1\u001b[39m)\n\u001b[1;32m    135\u001b[0m )\n",
      "\u001b[0;31mKeyboardInterrupt\u001b[0m: "
     ]
    }
   ],
   "source": [
    "td_model.sample(device='cuda')"
   ]
  }
 ],
 "metadata": {
  "kernelspec": {
   "display_name": "tramdag",
   "language": "python",
   "name": "python3"
  },
  "language_info": {
   "codemirror_mode": {
    "name": "ipython",
    "version": 3
   },
   "file_extension": ".py",
   "mimetype": "text/x-python",
   "name": "python",
   "nbconvert_exporter": "python",
   "pygments_lexer": "ipython3",
   "version": "3.9.21"
  }
 },
 "nbformat": 4,
 "nbformat_minor": 5
}
